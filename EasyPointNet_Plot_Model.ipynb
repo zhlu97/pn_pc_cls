{
  "nbformat": 4,
  "nbformat_minor": 0,
  "metadata": {
    "colab": {
      "name": "EasyPointNet_Plot Model.ipynb",
      "provenance": [],
      "collapsed_sections": [],
      "toc_visible": true,
      "include_colab_link": true
    },
    "kernelspec": {
      "name": "python3",
      "display_name": "Python 3"
    },
    "accelerator": "GPU",
    "widgets": {
      "application/vnd.jupyter.widget-state+json": {
        "6e45beae000947b198d2767b4b92ad68": {
          "model_module": "@jupyter-widgets/controls",
          "model_name": "HBoxModel",
          "state": {
            "_view_name": "HBoxView",
            "_dom_classes": [],
            "_model_name": "HBoxModel",
            "_view_module": "@jupyter-widgets/controls",
            "_model_module_version": "1.5.0",
            "_view_count": null,
            "_view_module_version": "1.5.0",
            "box_style": "",
            "layout": "IPY_MODEL_fa76b6d22af8450fb83541d4fe67b754",
            "_model_module": "@jupyter-widgets/controls",
            "children": [
              "IPY_MODEL_c6da75cfd2e64a879cd85a6d8501d31b",
              "IPY_MODEL_22257183979d49f396be847d10bb2115"
            ]
          }
        },
        "fa76b6d22af8450fb83541d4fe67b754": {
          "model_module": "@jupyter-widgets/base",
          "model_name": "LayoutModel",
          "state": {
            "_view_name": "LayoutView",
            "grid_template_rows": null,
            "right": null,
            "justify_content": null,
            "_view_module": "@jupyter-widgets/base",
            "overflow": null,
            "_model_module_version": "1.2.0",
            "_view_count": null,
            "flex_flow": null,
            "width": null,
            "min_width": null,
            "border": null,
            "align_items": null,
            "bottom": null,
            "_model_module": "@jupyter-widgets/base",
            "top": null,
            "grid_column": null,
            "overflow_y": null,
            "overflow_x": null,
            "grid_auto_flow": null,
            "grid_area": null,
            "grid_template_columns": null,
            "flex": null,
            "_model_name": "LayoutModel",
            "justify_items": null,
            "grid_row": null,
            "max_height": null,
            "align_content": null,
            "visibility": null,
            "align_self": null,
            "height": null,
            "min_height": null,
            "padding": null,
            "grid_auto_rows": null,
            "grid_gap": null,
            "max_width": null,
            "order": null,
            "_view_module_version": "1.2.0",
            "grid_template_areas": null,
            "object_position": null,
            "object_fit": null,
            "grid_auto_columns": null,
            "margin": null,
            "display": null,
            "left": null
          }
        },
        "c6da75cfd2e64a879cd85a6d8501d31b": {
          "model_module": "@jupyter-widgets/controls",
          "model_name": "IntProgressModel",
          "state": {
            "_view_name": "ProgressView",
            "style": "IPY_MODEL_f0dfa17cb2f941d293d49b1e7b029c3f",
            "_dom_classes": [],
            "description": "  0%",
            "_model_name": "IntProgressModel",
            "bar_style": "",
            "max": 165,
            "_view_module": "@jupyter-widgets/controls",
            "_model_module_version": "1.5.0",
            "value": 0,
            "_view_count": null,
            "_view_module_version": "1.5.0",
            "orientation": "horizontal",
            "min": 0,
            "description_tooltip": null,
            "_model_module": "@jupyter-widgets/controls",
            "layout": "IPY_MODEL_42f1dc1f494b48cca0cfbbf309d1a298"
          }
        },
        "22257183979d49f396be847d10bb2115": {
          "model_module": "@jupyter-widgets/controls",
          "model_name": "HTMLModel",
          "state": {
            "_view_name": "HTMLView",
            "style": "IPY_MODEL_78ece7a8b9cb4f91bcbe29d15f378e85",
            "_dom_classes": [],
            "description": "",
            "_model_name": "HTMLModel",
            "placeholder": "​",
            "_view_module": "@jupyter-widgets/controls",
            "_model_module_version": "1.5.0",
            "value": " 0/165 [00:00&lt;?, ?it/s]",
            "_view_count": null,
            "_view_module_version": "1.5.0",
            "description_tooltip": null,
            "_model_module": "@jupyter-widgets/controls",
            "layout": "IPY_MODEL_0a6c5c15913d4c949cffcd499b0e9394"
          }
        },
        "f0dfa17cb2f941d293d49b1e7b029c3f": {
          "model_module": "@jupyter-widgets/controls",
          "model_name": "ProgressStyleModel",
          "state": {
            "_view_name": "StyleView",
            "_model_name": "ProgressStyleModel",
            "description_width": "initial",
            "_view_module": "@jupyter-widgets/base",
            "_model_module_version": "1.5.0",
            "_view_count": null,
            "_view_module_version": "1.2.0",
            "bar_color": null,
            "_model_module": "@jupyter-widgets/controls"
          }
        },
        "42f1dc1f494b48cca0cfbbf309d1a298": {
          "model_module": "@jupyter-widgets/base",
          "model_name": "LayoutModel",
          "state": {
            "_view_name": "LayoutView",
            "grid_template_rows": null,
            "right": null,
            "justify_content": null,
            "_view_module": "@jupyter-widgets/base",
            "overflow": null,
            "_model_module_version": "1.2.0",
            "_view_count": null,
            "flex_flow": null,
            "width": null,
            "min_width": null,
            "border": null,
            "align_items": null,
            "bottom": null,
            "_model_module": "@jupyter-widgets/base",
            "top": null,
            "grid_column": null,
            "overflow_y": null,
            "overflow_x": null,
            "grid_auto_flow": null,
            "grid_area": null,
            "grid_template_columns": null,
            "flex": null,
            "_model_name": "LayoutModel",
            "justify_items": null,
            "grid_row": null,
            "max_height": null,
            "align_content": null,
            "visibility": null,
            "align_self": null,
            "height": null,
            "min_height": null,
            "padding": null,
            "grid_auto_rows": null,
            "grid_gap": null,
            "max_width": null,
            "order": null,
            "_view_module_version": "1.2.0",
            "grid_template_areas": null,
            "object_position": null,
            "object_fit": null,
            "grid_auto_columns": null,
            "margin": null,
            "display": null,
            "left": null
          }
        },
        "78ece7a8b9cb4f91bcbe29d15f378e85": {
          "model_module": "@jupyter-widgets/controls",
          "model_name": "DescriptionStyleModel",
          "state": {
            "_view_name": "StyleView",
            "_model_name": "DescriptionStyleModel",
            "description_width": "",
            "_view_module": "@jupyter-widgets/base",
            "_model_module_version": "1.5.0",
            "_view_count": null,
            "_view_module_version": "1.2.0",
            "_model_module": "@jupyter-widgets/controls"
          }
        },
        "0a6c5c15913d4c949cffcd499b0e9394": {
          "model_module": "@jupyter-widgets/base",
          "model_name": "LayoutModel",
          "state": {
            "_view_name": "LayoutView",
            "grid_template_rows": null,
            "right": null,
            "justify_content": null,
            "_view_module": "@jupyter-widgets/base",
            "overflow": null,
            "_model_module_version": "1.2.0",
            "_view_count": null,
            "flex_flow": null,
            "width": null,
            "min_width": null,
            "border": null,
            "align_items": null,
            "bottom": null,
            "_model_module": "@jupyter-widgets/base",
            "top": null,
            "grid_column": null,
            "overflow_y": null,
            "overflow_x": null,
            "grid_auto_flow": null,
            "grid_area": null,
            "grid_template_columns": null,
            "flex": null,
            "_model_name": "LayoutModel",
            "justify_items": null,
            "grid_row": null,
            "max_height": null,
            "align_content": null,
            "visibility": null,
            "align_self": null,
            "height": null,
            "min_height": null,
            "padding": null,
            "grid_auto_rows": null,
            "grid_gap": null,
            "max_width": null,
            "order": null,
            "_view_module_version": "1.2.0",
            "grid_template_areas": null,
            "object_position": null,
            "object_fit": null,
            "grid_auto_columns": null,
            "margin": null,
            "display": null,
            "left": null
          }
        }
      }
    }
  },
  "cells": [
    {
      "cell_type": "markdown",
      "metadata": {
        "id": "view-in-github",
        "colab_type": "text"
      },
      "source": [
        "<a href=\"https://colab.research.google.com/github/zhlu97/pn_pc_cls/blob/master/EasyPointNet_Plot_Model.ipynb\" target=\"_parent\"><img src=\"https://colab.research.google.com/assets/colab-badge.svg\" alt=\"Open In Colab\"/></a>"
      ]
    },
    {
      "cell_type": "markdown",
      "metadata": {
        "id": "0SGGRqEsBTX_",
        "colab_type": "text"
      },
      "source": [
        "# Easiest PointNet Possible"
      ]
    },
    {
      "cell_type": "markdown",
      "metadata": {
        "id": "aIItjvl-0v6X",
        "colab_type": "text"
      },
      "source": [
        "## Fetch ModelNet40 and Decompress"
      ]
    },
    {
      "cell_type": "code",
      "metadata": {
        "id": "EeMr-nS001Ae",
        "colab_type": "code",
        "colab": {
          "base_uri": "https://localhost:8080/",
          "height": 151
        },
        "outputId": "43880a3e-8e03-477d-c456-8e4f3eda4f66"
      },
      "source": [
        "!wget https://shapenet.cs.stanford.edu/media/modelnet40_normal_resampled.zip"
      ],
      "execution_count": null,
      "outputs": [
        {
          "output_type": "stream",
          "text": [
            "--2020-04-23 19:49:58--  https://shapenet.cs.stanford.edu/media/modelnet40_normal_resampled.zip\n",
            "Resolving shapenet.cs.stanford.edu (shapenet.cs.stanford.edu)... 171.67.77.19\n",
            "Connecting to shapenet.cs.stanford.edu (shapenet.cs.stanford.edu)|171.67.77.19|:443... connected.\n",
            "HTTP request sent, awaiting response... 200 OK\n",
            "Length: 1705117335 (1.6G) [application/zip]\n",
            "Saving to: ‘modelnet40_normal_resampled.zip.1’\n",
            "\n",
            "lnet40_normal_resam  10%[=>                  ] 166.95M  8.44MB/s    eta 2m 39s ^C\n"
          ],
          "name": "stdout"
        }
      ]
    },
    {
      "cell_type": "code",
      "metadata": {
        "id": "qrCTYNuq02px",
        "colab_type": "code",
        "colab": {
          "base_uri": "https://localhost:8080/",
          "height": 303
        },
        "outputId": "3d659e09-3fa8-4453-80cb-6608bc1c5590"
      },
      "source": [
        "%%capture\n",
        "!unzip modelnet40_normal_resampled.zip"
      ],
      "execution_count": null,
      "outputs": [
        {
          "output_type": "error",
          "ename": "MessageError",
          "evalue": "ignored",
          "traceback": [
            "\u001b[0;31m---------------------------------------------------------------------------\u001b[0m",
            "\u001b[0;31mMessageError\u001b[0m                              Traceback (most recent call last)",
            "\u001b[0;32m<ipython-input-4-7e2726d1fada>\u001b[0m in \u001b[0;36m<module>\u001b[0;34m()\u001b[0m\n\u001b[0;32m----> 1\u001b[0;31m \u001b[0mget_ipython\u001b[0m\u001b[0;34m(\u001b[0m\u001b[0;34m)\u001b[0m\u001b[0;34m.\u001b[0m\u001b[0msystem\u001b[0m\u001b[0;34m(\u001b[0m\u001b[0;34m'unzip modelnet40_normal_resampled.zip'\u001b[0m\u001b[0;34m)\u001b[0m\u001b[0;34m\u001b[0m\u001b[0;34m\u001b[0m\u001b[0m\n\u001b[0m",
            "\u001b[0;32m/usr/local/lib/python3.6/dist-packages/google/colab/_shell.py\u001b[0m in \u001b[0;36msystem\u001b[0;34m(self, *args, **kwargs)\u001b[0m\n\u001b[1;32m    100\u001b[0m       \u001b[0mkwargs\u001b[0m\u001b[0;34m.\u001b[0m\u001b[0mupdate\u001b[0m\u001b[0;34m(\u001b[0m\u001b[0;34m{\u001b[0m\u001b[0;34m'also_return_output'\u001b[0m\u001b[0;34m:\u001b[0m \u001b[0;32mTrue\u001b[0m\u001b[0;34m}\u001b[0m\u001b[0;34m)\u001b[0m\u001b[0;34m\u001b[0m\u001b[0;34m\u001b[0m\u001b[0m\n\u001b[1;32m    101\u001b[0m \u001b[0;34m\u001b[0m\u001b[0m\n\u001b[0;32m--> 102\u001b[0;31m     \u001b[0moutput\u001b[0m \u001b[0;34m=\u001b[0m \u001b[0m_system_commands\u001b[0m\u001b[0;34m.\u001b[0m\u001b[0m_system_compat\u001b[0m\u001b[0;34m(\u001b[0m\u001b[0mself\u001b[0m\u001b[0;34m,\u001b[0m \u001b[0;34m*\u001b[0m\u001b[0margs\u001b[0m\u001b[0;34m,\u001b[0m \u001b[0;34m**\u001b[0m\u001b[0mkwargs\u001b[0m\u001b[0;34m)\u001b[0m  \u001b[0;31m# pylint:disable=protected-access\u001b[0m\u001b[0;34m\u001b[0m\u001b[0;34m\u001b[0m\u001b[0m\n\u001b[0m\u001b[1;32m    103\u001b[0m \u001b[0;34m\u001b[0m\u001b[0m\n\u001b[1;32m    104\u001b[0m     \u001b[0;32mif\u001b[0m \u001b[0mpip_warn\u001b[0m\u001b[0;34m:\u001b[0m\u001b[0;34m\u001b[0m\u001b[0;34m\u001b[0m\u001b[0m\n",
            "\u001b[0;32m/usr/local/lib/python3.6/dist-packages/google/colab/_system_commands.py\u001b[0m in \u001b[0;36m_system_compat\u001b[0;34m(shell, cmd, also_return_output)\u001b[0m\n\u001b[1;32m    436\u001b[0m   \u001b[0;31m# stack.\u001b[0m\u001b[0;34m\u001b[0m\u001b[0;34m\u001b[0m\u001b[0;34m\u001b[0m\u001b[0m\n\u001b[1;32m    437\u001b[0m   result = _run_command(\n\u001b[0;32m--> 438\u001b[0;31m       shell.var_expand(cmd, depth=2), clear_streamed_output=False)\n\u001b[0m\u001b[1;32m    439\u001b[0m   \u001b[0mshell\u001b[0m\u001b[0;34m.\u001b[0m\u001b[0muser_ns\u001b[0m\u001b[0;34m[\u001b[0m\u001b[0;34m'_exit_code'\u001b[0m\u001b[0;34m]\u001b[0m \u001b[0;34m=\u001b[0m \u001b[0mresult\u001b[0m\u001b[0;34m.\u001b[0m\u001b[0mreturncode\u001b[0m\u001b[0;34m\u001b[0m\u001b[0;34m\u001b[0m\u001b[0m\n\u001b[1;32m    440\u001b[0m   \u001b[0;32mif\u001b[0m \u001b[0;34m-\u001b[0m\u001b[0mresult\u001b[0m\u001b[0;34m.\u001b[0m\u001b[0mreturncode\u001b[0m \u001b[0;32min\u001b[0m \u001b[0m_INTERRUPTED_SIGNALS\u001b[0m\u001b[0;34m:\u001b[0m\u001b[0;34m\u001b[0m\u001b[0;34m\u001b[0m\u001b[0m\n",
            "\u001b[0;32m/usr/local/lib/python3.6/dist-packages/google/colab/_system_commands.py\u001b[0m in \u001b[0;36m_run_command\u001b[0;34m(cmd, clear_streamed_output)\u001b[0m\n\u001b[1;32m    193\u001b[0m       \u001b[0mos\u001b[0m\u001b[0;34m.\u001b[0m\u001b[0mclose\u001b[0m\u001b[0;34m(\u001b[0m\u001b[0mchild_pty\u001b[0m\u001b[0;34m)\u001b[0m\u001b[0;34m\u001b[0m\u001b[0;34m\u001b[0m\u001b[0m\n\u001b[1;32m    194\u001b[0m \u001b[0;34m\u001b[0m\u001b[0m\n\u001b[0;32m--> 195\u001b[0;31m       \u001b[0;32mreturn\u001b[0m \u001b[0m_monitor_process\u001b[0m\u001b[0;34m(\u001b[0m\u001b[0mparent_pty\u001b[0m\u001b[0;34m,\u001b[0m \u001b[0mepoll\u001b[0m\u001b[0;34m,\u001b[0m \u001b[0mp\u001b[0m\u001b[0;34m,\u001b[0m \u001b[0mcmd\u001b[0m\u001b[0;34m,\u001b[0m \u001b[0mupdate_stdin_widget\u001b[0m\u001b[0;34m)\u001b[0m\u001b[0;34m\u001b[0m\u001b[0;34m\u001b[0m\u001b[0m\n\u001b[0m\u001b[1;32m    196\u001b[0m   \u001b[0;32mfinally\u001b[0m\u001b[0;34m:\u001b[0m\u001b[0;34m\u001b[0m\u001b[0;34m\u001b[0m\u001b[0m\n\u001b[1;32m    197\u001b[0m     \u001b[0mepoll\u001b[0m\u001b[0;34m.\u001b[0m\u001b[0mclose\u001b[0m\u001b[0;34m(\u001b[0m\u001b[0;34m)\u001b[0m\u001b[0;34m\u001b[0m\u001b[0;34m\u001b[0m\u001b[0m\n",
            "\u001b[0;32m/usr/lib/python3.6/contextlib.py\u001b[0m in \u001b[0;36m__exit__\u001b[0;34m(self, type, value, traceback)\u001b[0m\n\u001b[1;32m     86\u001b[0m         \u001b[0;32mif\u001b[0m \u001b[0mtype\u001b[0m \u001b[0;32mis\u001b[0m \u001b[0;32mNone\u001b[0m\u001b[0;34m:\u001b[0m\u001b[0;34m\u001b[0m\u001b[0;34m\u001b[0m\u001b[0m\n\u001b[1;32m     87\u001b[0m             \u001b[0;32mtry\u001b[0m\u001b[0;34m:\u001b[0m\u001b[0;34m\u001b[0m\u001b[0;34m\u001b[0m\u001b[0m\n\u001b[0;32m---> 88\u001b[0;31m                 \u001b[0mnext\u001b[0m\u001b[0;34m(\u001b[0m\u001b[0mself\u001b[0m\u001b[0;34m.\u001b[0m\u001b[0mgen\u001b[0m\u001b[0;34m)\u001b[0m\u001b[0;34m\u001b[0m\u001b[0;34m\u001b[0m\u001b[0m\n\u001b[0m\u001b[1;32m     89\u001b[0m             \u001b[0;32mexcept\u001b[0m \u001b[0mStopIteration\u001b[0m\u001b[0;34m:\u001b[0m\u001b[0;34m\u001b[0m\u001b[0;34m\u001b[0m\u001b[0m\n\u001b[1;32m     90\u001b[0m                 \u001b[0;32mreturn\u001b[0m \u001b[0;32mFalse\u001b[0m\u001b[0;34m\u001b[0m\u001b[0;34m\u001b[0m\u001b[0m\n",
            "\u001b[0;32m/usr/local/lib/python3.6/dist-packages/google/colab/_system_commands.py\u001b[0m in \u001b[0;36m_display_stdin_widget\u001b[0;34m(delay_millis)\u001b[0m\n\u001b[1;32m    353\u001b[0m \u001b[0;34m\u001b[0m\u001b[0m\n\u001b[1;32m    354\u001b[0m   \u001b[0mhide_args\u001b[0m \u001b[0;34m=\u001b[0m \u001b[0;34m[\u001b[0m\u001b[0;34m'cell_remove_stdin'\u001b[0m\u001b[0;34m,\u001b[0m \u001b[0;34m{\u001b[0m\u001b[0;34m}\u001b[0m\u001b[0;34m]\u001b[0m\u001b[0;34m\u001b[0m\u001b[0;34m\u001b[0m\u001b[0m\n\u001b[0;32m--> 355\u001b[0;31m   \u001b[0m_message\u001b[0m\u001b[0;34m.\u001b[0m\u001b[0mblocking_request\u001b[0m\u001b[0;34m(\u001b[0m\u001b[0;34m*\u001b[0m\u001b[0mhide_args\u001b[0m\u001b[0;34m,\u001b[0m \u001b[0mparent\u001b[0m\u001b[0;34m=\u001b[0m\u001b[0mshell\u001b[0m\u001b[0;34m.\u001b[0m\u001b[0mparent_header\u001b[0m\u001b[0;34m)\u001b[0m\u001b[0;34m\u001b[0m\u001b[0;34m\u001b[0m\u001b[0m\n\u001b[0m\u001b[1;32m    356\u001b[0m \u001b[0;34m\u001b[0m\u001b[0m\n\u001b[1;32m    357\u001b[0m \u001b[0;34m\u001b[0m\u001b[0m\n",
            "\u001b[0;32m/usr/local/lib/python3.6/dist-packages/google/colab/_message.py\u001b[0m in \u001b[0;36mblocking_request\u001b[0;34m(request_type, request, timeout_sec, parent)\u001b[0m\n\u001b[1;32m    169\u001b[0m   \u001b[0;31m# unique.\u001b[0m\u001b[0;34m\u001b[0m\u001b[0;34m\u001b[0m\u001b[0;34m\u001b[0m\u001b[0m\n\u001b[1;32m    170\u001b[0m   \u001b[0mrequest_id\u001b[0m \u001b[0;34m=\u001b[0m \u001b[0msend_request\u001b[0m\u001b[0;34m(\u001b[0m\u001b[0mrequest_type\u001b[0m\u001b[0;34m,\u001b[0m \u001b[0mrequest\u001b[0m\u001b[0;34m,\u001b[0m \u001b[0mparent\u001b[0m\u001b[0;34m=\u001b[0m\u001b[0mparent\u001b[0m\u001b[0;34m)\u001b[0m\u001b[0;34m\u001b[0m\u001b[0;34m\u001b[0m\u001b[0m\n\u001b[0;32m--> 171\u001b[0;31m   \u001b[0;32mreturn\u001b[0m \u001b[0mread_reply_from_input\u001b[0m\u001b[0;34m(\u001b[0m\u001b[0mrequest_id\u001b[0m\u001b[0;34m,\u001b[0m \u001b[0mtimeout_sec\u001b[0m\u001b[0;34m)\u001b[0m\u001b[0;34m\u001b[0m\u001b[0;34m\u001b[0m\u001b[0m\n\u001b[0m",
            "\u001b[0;32m/usr/local/lib/python3.6/dist-packages/google/colab/_message.py\u001b[0m in \u001b[0;36mread_reply_from_input\u001b[0;34m(message_id, timeout_sec)\u001b[0m\n\u001b[1;32m    104\u001b[0m         reply.get('colab_msg_id') == message_id):\n\u001b[1;32m    105\u001b[0m       \u001b[0;32mif\u001b[0m \u001b[0;34m'error'\u001b[0m \u001b[0;32min\u001b[0m \u001b[0mreply\u001b[0m\u001b[0;34m:\u001b[0m\u001b[0;34m\u001b[0m\u001b[0;34m\u001b[0m\u001b[0m\n\u001b[0;32m--> 106\u001b[0;31m         \u001b[0;32mraise\u001b[0m \u001b[0mMessageError\u001b[0m\u001b[0;34m(\u001b[0m\u001b[0mreply\u001b[0m\u001b[0;34m[\u001b[0m\u001b[0;34m'error'\u001b[0m\u001b[0;34m]\u001b[0m\u001b[0;34m)\u001b[0m\u001b[0;34m\u001b[0m\u001b[0;34m\u001b[0m\u001b[0m\n\u001b[0m\u001b[1;32m    107\u001b[0m       \u001b[0;32mreturn\u001b[0m \u001b[0mreply\u001b[0m\u001b[0;34m.\u001b[0m\u001b[0mget\u001b[0m\u001b[0;34m(\u001b[0m\u001b[0;34m'data'\u001b[0m\u001b[0;34m,\u001b[0m \u001b[0;32mNone\u001b[0m\u001b[0;34m)\u001b[0m\u001b[0;34m\u001b[0m\u001b[0;34m\u001b[0m\u001b[0m\n\u001b[1;32m    108\u001b[0m \u001b[0;34m\u001b[0m\u001b[0m\n",
            "\u001b[0;31mMessageError\u001b[0m: Error: Cell has no view"
          ]
        }
      ]
    },
    {
      "cell_type": "markdown",
      "metadata": {
        "id": "NrQmdNrxBdd3",
        "colab_type": "text"
      },
      "source": [
        "## Import Libraries"
      ]
    },
    {
      "cell_type": "code",
      "metadata": {
        "id": "8AZmv0aXpr6p",
        "colab_type": "code",
        "colab": {}
      },
      "source": [
        ""
      ],
      "execution_count": null,
      "outputs": []
    },
    {
      "cell_type": "code",
      "metadata": {
        "id": "8MsGEo9sBlkU",
        "colab_type": "code",
        "colab": {}
      },
      "source": [
        "import numpy as np\n",
        "import warnings\n",
        "import os\n",
        "from torch.utils.data import Dataset\n",
        "warnings.filterwarnings('ignore')\n",
        "\n",
        "import torch\n",
        "import logging\n",
        "# from tqdm import tqdm\n",
        "from tqdm.notebook import tqdm\n",
        "import sys\n",
        "import importlib\n",
        "\n",
        "import torch.nn.parallel\n",
        "import torch.utils.data\n",
        "from torch.autograd import Variable\n",
        "\n",
        "import torch.nn.functional as F\n",
        "import matplotlib.pyplot as plt"
      ],
      "execution_count": null,
      "outputs": []
    },
    {
      "cell_type": "markdown",
      "metadata": {
        "id": "H_9u9KBWEldg",
        "colab_type": "text"
      },
      "source": [
        "## Define hyperparameters"
      ]
    },
    {
      "cell_type": "code",
      "metadata": {
        "id": "VcAA2WSZEkzT",
        "colab_type": "code",
        "colab": {}
      },
      "source": [
        "batch_size = 60\n",
        "sample_point_count = 1024\n",
        "num_classes = 40\n",
        "num_epoch = 20\n",
        "learning_rate = 0.001\n",
        "rootPath = '/content/modelnet40_normal_resampled/'\n",
        "# rootPath = '/home/isuzu/modelnet40_normal_resampled/'"
      ],
      "execution_count": null,
      "outputs": []
    },
    {
      "cell_type": "markdown",
      "metadata": {
        "id": "Fuf7qUU_CSL3",
        "colab_type": "text"
      },
      "source": [
        "## Dataloader"
      ]
    },
    {
      "cell_type": "markdown",
      "metadata": {
        "id": "iaawGnGFnpXD",
        "colab_type": "text"
      },
      "source": [
        "### To use Pytorch's built-in dataloader, must implement subclass and override all three functions below."
      ]
    },
    {
      "cell_type": "code",
      "metadata": {
        "id": "kdHrasQRCvFI",
        "colab_type": "code",
        "colab": {}
      },
      "source": [
        "def farthest_point_sample(point, npoint):\n",
        "    \"\"\"\n",
        "    Input:\n",
        "        xyz: pointcloud data, [N, D]\n",
        "        npoint: number of samples\n",
        "    Return:\n",
        "        centroids: sampled pointcloud index, [npoint, D]\n",
        "    \"\"\"\n",
        "    N, D = point.shape\n",
        "    xyz = point[:,:3]\n",
        "    centroids = np.zeros((npoint,))\n",
        "    distance = np.ones((N,)) * 1e10\n",
        "    farthest = np.random.randint(0, N)\n",
        "    for i in range(npoint):\n",
        "        centroids[i] = farthest\n",
        "        centroid = xyz[farthest, :]\n",
        "        dist = np.sum((xyz - centroid) ** 2, -1)\n",
        "        mask = dist < distance\n",
        "        distance[mask] = dist[mask]\n",
        "        farthest = np.argmax(distance, -1)\n",
        "    point = point[centroids.astype(np.int32)]\n",
        "    return point\n",
        "    \n",
        "class ModelNetResampledLoader(Dataset):\n",
        "  def __init__(self, rootPath, mode):\n",
        "        self.categoryNames = [line.rstrip() for line in open(os.path.join(rootPath, 'modelnet40_shape_names.txt'))]\n",
        "        self.classes = dict(zip(self.categoryNames, range(len(self.categoryNames))))\n",
        "\n",
        "        self.all_IDs = {}\n",
        "        self.all_IDs['train'] = [line.rstrip() for line in open(os.path.join(rootPath, 'modelnet40_train.txt'))]\n",
        "        self.all_IDs['test']  = [line.rstrip() for line in open(os.path.join(rootPath, 'modelnet40_test.txt'))]   \n",
        "\n",
        "        shape_names = ['_'.join(x.split('_')[0:-1]) for x in self.all_IDs[mode]]\n",
        "        self.datapath = [(shape_names[i], os.path.join(rootPath, shape_names[i], self.all_IDs[mode][i]) + '.txt') for i\n",
        "                         in range(len(self.all_IDs[mode]))]        \n",
        "\n",
        "  def __len__(self):\n",
        "        'Denotes the total number of samples'\n",
        "        'num of .txt'\n",
        "        return len(self.datapath)\n",
        "\n",
        "  def __getitem__(self, index):\n",
        "        selectedDatapaths = self.datapath[index]\n",
        "        selectedClasses   = self.classes[selectedDatapaths[0]]\n",
        "        selectedClasses   = np.array([selectedClasses]).astype(np.int32)\n",
        "\n",
        "        pointSet = np.loadtxt(selectedDatapaths[1], delimiter=',').astype(np.float32)\n",
        "        # pointSet = pointSet[0:sample_point_count,:] #Only choosing first 1024? -- Points have no ordering. We can already see shape with first 1024 pts\n",
        "        pointSet = farthest_point_sample(pointSet, sample_point_count)\n",
        "        pointSet = pointSet[:, 0:3]\n",
        "        plt.plot(pointSet)\n",
        "\n",
        "        return pointSet, selectedClasses"
      ],
      "execution_count": null,
      "outputs": []
    },
    {
      "cell_type": "markdown",
      "metadata": {
        "id": "UC-BxaFgotWJ",
        "colab_type": "text"
      },
      "source": [
        "## Simpliest PointNet Model"
      ]
    },
    {
      "cell_type": "code",
      "metadata": {
        "id": "6Wh7MyRwoycu",
        "colab_type": "code",
        "colab": {}
      },
      "source": [
        "class STNkd(torch.nn.Module):\n",
        "    def __init__(self, k=64):\n",
        "        super(STNkd, self).__init__()\n",
        "        self.conv1 = torch.nn.Conv1d(k, 64, 1)\n",
        "        self.conv2 = torch.nn.Conv1d(64, 128, 1)\n",
        "        self.conv3 = torch.nn.Conv1d(128, 1024, 1)\n",
        "        self.fc1 = torch.nn.Linear(1024, 512)\n",
        "        self.fc2 = torch.nn.Linear(512, 256)\n",
        "        self.fc3 = torch.nn.Linear(256, k * k)\n",
        "        self.relu = torch.nn.ReLU()\n",
        "\n",
        "        self.bn1 = torch.nn.BatchNorm1d(64)\n",
        "        self.bn2 = torch.nn.BatchNorm1d(128)\n",
        "        self.bn3 = torch.nn.BatchNorm1d(1024)\n",
        "        self.bn4 = torch.nn.BatchNorm1d(512)\n",
        "        self.bn5 = torch.nn.BatchNorm1d(256)\n",
        "\n",
        "        self.k = k\n",
        "\n",
        "    def forward(self, x):\n",
        "        batchsize = x.size()[0]\n",
        "        x = F.relu(self.bn1(self.conv1(x)))\n",
        "        x = F.relu(self.bn2(self.conv2(x)))\n",
        "        x = F.relu(self.bn3(self.conv3(x)))\n",
        "        x = torch.max(x, 2, keepdim=True)[0]\n",
        "        x = x.view(-1, 1024)\n",
        "\n",
        "        x = F.relu(self.bn4(self.fc1(x)))\n",
        "        x = F.relu(self.bn5(self.fc2(x)))\n",
        "        x = self.fc3(x)\n",
        "\n",
        "        iden = Variable(torch.from_numpy(np.eye(self.k).flatten().astype(np.float32))).view(1, self.k * self.k).repeat(\n",
        "            batchsize, 1)\n",
        "        if x.is_cuda:\n",
        "            iden = iden.cuda()\n",
        "        x = x + iden\n",
        "        x = x.view(-1, self.k, self.k)\n",
        "        return x\n",
        "\n",
        "class TNet(torch.nn.Module):\n",
        "    def __init__(self, channel=3):\n",
        "        super(TNet, self).__init__()\n",
        "        self.channel = channel\n",
        "        self.affine = torch.nn.Linear(channel, channel)\n",
        "\n",
        "    def forward(self, x):\n",
        "        print(torch.transpose(x, 2, 1))\n",
        "        return self.affine(torch.transpose(x, 2, 1))\n",
        "\n",
        "class PointNetEncoder(torch.nn.Module):\n",
        "    def __init__(self, channel=3):\n",
        "        super(PointNetEncoder, self).__init__()\n",
        "\n",
        "        # self.tNet3 = TNet(channel)\n",
        "        self.tNet3 = STNkd(channel)\n",
        "        self.featureExpansion_3_64 = torch.nn.Sequential(\n",
        "            torch.nn.Conv1d(channel, 64, 1),\n",
        "            torch.nn.BatchNorm1d(64)\n",
        "        )\n",
        "        # self.tNet64 = TNet(64)\n",
        "        self.tNet64 = STNkd(64)\n",
        "        self.featureExpansion_64_128_1024 = torch.nn.Sequential(\n",
        "            torch.nn.Conv1d(64, 64, 1),\n",
        "            torch.nn.BatchNorm1d(64),\n",
        "            torch.nn.Conv1d(64, 128, 1),\n",
        "            torch.nn.BatchNorm1d(128),\n",
        "            torch.nn.Conv1d(128, 1024, 1),\n",
        "            torch.nn.BatchNorm1d(1024)\n",
        "        )\n",
        "\n",
        "    def forward(self, x):\n",
        "        B, D, N = x.size()\n",
        "\n",
        "        inputTransform = self.tNet3(x)\n",
        "        \n",
        "        x = x.transpose(2, 1)\n",
        "        x = torch.bmm(x, inputTransform)\n",
        "        x = x.transpose(2, 1)\n",
        "\n",
        "        x = self.featureExpansion_3_64(x)\n",
        "        featTranform = self.tNet64(x)\n",
        "        x = x.transpose(2, 1)\n",
        "        x = torch.bmm(x, featTranform)\n",
        "        x = x.transpose(2, 1)\n",
        "\n",
        "        pointfeat = x\n",
        "        x = self.featureExpansion_64_128_1024(x)\n",
        "        x, max_indices = torch.max(x, 2, keepdim=True)\n",
        "        # x = torch.max(x, 2, keepdim=True)\n",
        "        x = x.view(-1, 1024)\n",
        "\n",
        "        return x, inputTransform, featTranform, max_indices\n",
        "        # return x, inputTransform, featTranform\n",
        "\n",
        "class get_model(torch.nn.Module):\n",
        "    def __init__(self, channel = 3):\n",
        "        super(get_model, self).__init__()\n",
        "\n",
        "        self.pointNetEncoder = PointNetEncoder(channel=channel)\n",
        "\n",
        "        self.pointNetDecoder = torch.nn.Sequential(\n",
        "            torch.nn.Linear(1024, 512),\n",
        "            torch.nn.BatchNorm1d(512),\n",
        "            torch.nn.ReLU(),\n",
        "            torch.nn.Linear(512, 256),\n",
        "            torch.nn.Dropout(p=0.4),\n",
        "            torch.nn.BatchNorm1d(256),\n",
        "            torch.nn.ReLU(),\n",
        "            torch.nn.Linear(256, num_classes),\n",
        "            torch.nn.Softmax(dim = 1)\n",
        "        )\n",
        "\n",
        "    def forward(self, x):\n",
        "        x, inputTransform, featTranform, max_indices = self.pointNetEncoder(x)\n",
        "        # x, inputTransform, featTranform = self.pointNetEncoder(x)\n",
        "        x = self.pointNetDecoder(x)\n",
        "        return x, max_indices\n",
        "        # return x\n",
        "\n",
        "class get_loss(torch.nn.Module):\n",
        "    def __init__(self):\n",
        "        super(get_loss, self).__init__()\n",
        "\n",
        "    def forward(self, pred, target):\n",
        "        loss = torch.nn.functional.nll_loss(pred, target)\n",
        "        return loss"
      ],
      "execution_count": null,
      "outputs": []
    },
    {
      "cell_type": "markdown",
      "metadata": {
        "id": "YRKCWcgpzQGO",
        "colab_type": "text"
      },
      "source": [
        "## Training"
      ]
    },
    {
      "cell_type": "code",
      "metadata": {
        "id": "y_JSDlG2zl-m",
        "colab_type": "code",
        "colab": {
          "base_uri": "https://localhost:8080/",
          "height": 366
        },
        "outputId": "6b3fb893-c03a-43a2-ace4-3c8fb77aee32"
      },
      "source": [
        "# Get data loader\n",
        "trainData = ModelNetResampledLoader(rootPath=rootPath, mode='train')\n",
        "testData  = ModelNetResampledLoader(rootPath=rootPath, mode='test')\n",
        "trainDataLoader = torch.utils.data.DataLoader(trainData, batch_size=batch_size, shuffle=True, num_workers=4)\n",
        "testDataLoader  = torch.utils.data.DataLoader(testData, batch_size=batch_size, shuffle=False, num_workers=4)\n",
        "\n",
        "# Get model\n",
        "model = Model().cuda()\n",
        "criterion = Loss().cuda()\n",
        "optimizer = torch.optim.Adam(model.parameters(), lr=learning_rate)\n",
        "\n",
        "# # Print model's state_dict\n",
        "# print(\"Model's state_dict:\")\n",
        "# for param_tensor in model.state_dict():\n",
        "#     print(param_tensor, \"\\t\", model.state_dict()[param_tensor].size())\n",
        "\n",
        "# # Print optimizer's state_dict\n",
        "# print(\"Optimizer's state_dict:\")\n",
        "# for var_name in optimizer.state_dict():\n",
        "#     print(var_name, \"\\t\", optimizer.state_dict()[var_name])"
      ],
      "execution_count": null,
      "outputs": [
        {
          "output_type": "error",
          "ename": "FileNotFoundError",
          "evalue": "ignored",
          "traceback": [
            "\u001b[0;31m---------------------------------------------------------------------------\u001b[0m",
            "\u001b[0;31mFileNotFoundError\u001b[0m                         Traceback (most recent call last)",
            "\u001b[0;32m<ipython-input-7-43b5bc5470e5>\u001b[0m in \u001b[0;36m<module>\u001b[0;34m()\u001b[0m\n\u001b[0;32m----> 1\u001b[0;31m \u001b[0mtrainData\u001b[0m \u001b[0;34m=\u001b[0m \u001b[0mModelNetResampledLoader\u001b[0m\u001b[0;34m(\u001b[0m\u001b[0mrootPath\u001b[0m\u001b[0;34m=\u001b[0m\u001b[0mrootPath\u001b[0m\u001b[0;34m,\u001b[0m \u001b[0mmode\u001b[0m\u001b[0;34m=\u001b[0m\u001b[0;34m'train'\u001b[0m\u001b[0;34m)\u001b[0m\u001b[0;34m\u001b[0m\u001b[0;34m\u001b[0m\u001b[0m\n\u001b[0m\u001b[1;32m      2\u001b[0m \u001b[0mtestData\u001b[0m  \u001b[0;34m=\u001b[0m \u001b[0mModelNetResampledLoader\u001b[0m\u001b[0;34m(\u001b[0m\u001b[0mrootPath\u001b[0m\u001b[0;34m=\u001b[0m\u001b[0mrootPath\u001b[0m\u001b[0;34m,\u001b[0m \u001b[0mmode\u001b[0m\u001b[0;34m=\u001b[0m\u001b[0;34m'test'\u001b[0m\u001b[0;34m)\u001b[0m\u001b[0;34m\u001b[0m\u001b[0;34m\u001b[0m\u001b[0m\n\u001b[1;32m      3\u001b[0m \u001b[0mtrainDataLoader\u001b[0m \u001b[0;34m=\u001b[0m \u001b[0mtorch\u001b[0m\u001b[0;34m.\u001b[0m\u001b[0mutils\u001b[0m\u001b[0;34m.\u001b[0m\u001b[0mdata\u001b[0m\u001b[0;34m.\u001b[0m\u001b[0mDataLoader\u001b[0m\u001b[0;34m(\u001b[0m\u001b[0mtrainData\u001b[0m\u001b[0;34m,\u001b[0m \u001b[0mbatch_size\u001b[0m\u001b[0;34m=\u001b[0m\u001b[0mbatch_size\u001b[0m\u001b[0;34m,\u001b[0m \u001b[0mshuffle\u001b[0m\u001b[0;34m=\u001b[0m\u001b[0;32mTrue\u001b[0m\u001b[0;34m,\u001b[0m \u001b[0mnum_workers\u001b[0m\u001b[0;34m=\u001b[0m\u001b[0;36m4\u001b[0m\u001b[0;34m)\u001b[0m\u001b[0;34m\u001b[0m\u001b[0;34m\u001b[0m\u001b[0m\n\u001b[1;32m      4\u001b[0m \u001b[0mtestDataLoader\u001b[0m  \u001b[0;34m=\u001b[0m \u001b[0mtorch\u001b[0m\u001b[0;34m.\u001b[0m\u001b[0mutils\u001b[0m\u001b[0;34m.\u001b[0m\u001b[0mdata\u001b[0m\u001b[0;34m.\u001b[0m\u001b[0mDataLoader\u001b[0m\u001b[0;34m(\u001b[0m\u001b[0mtestData\u001b[0m\u001b[0;34m,\u001b[0m \u001b[0mbatch_size\u001b[0m\u001b[0;34m=\u001b[0m\u001b[0mbatch_size\u001b[0m\u001b[0;34m,\u001b[0m \u001b[0mshuffle\u001b[0m\u001b[0;34m=\u001b[0m\u001b[0;32mFalse\u001b[0m\u001b[0;34m,\u001b[0m \u001b[0mnum_workers\u001b[0m\u001b[0;34m=\u001b[0m\u001b[0;36m4\u001b[0m\u001b[0;34m)\u001b[0m\u001b[0;34m\u001b[0m\u001b[0;34m\u001b[0m\u001b[0m\n\u001b[1;32m      5\u001b[0m \u001b[0;34m\u001b[0m\u001b[0m\n",
            "\u001b[0;32m<ipython-input-5-b4cee56bad29>\u001b[0m in \u001b[0;36m__init__\u001b[0;34m(self, rootPath, mode)\u001b[0m\n\u001b[1;32m      1\u001b[0m \u001b[0;32mclass\u001b[0m \u001b[0mModelNetResampledLoader\u001b[0m\u001b[0;34m(\u001b[0m\u001b[0mDataset\u001b[0m\u001b[0;34m)\u001b[0m\u001b[0;34m:\u001b[0m\u001b[0;34m\u001b[0m\u001b[0;34m\u001b[0m\u001b[0m\n\u001b[1;32m      2\u001b[0m   \u001b[0;32mdef\u001b[0m \u001b[0m__init__\u001b[0m\u001b[0;34m(\u001b[0m\u001b[0mself\u001b[0m\u001b[0;34m,\u001b[0m \u001b[0mrootPath\u001b[0m\u001b[0;34m,\u001b[0m \u001b[0mmode\u001b[0m\u001b[0;34m)\u001b[0m\u001b[0;34m:\u001b[0m\u001b[0;34m\u001b[0m\u001b[0;34m\u001b[0m\u001b[0m\n\u001b[0;32m----> 3\u001b[0;31m         \u001b[0mself\u001b[0m\u001b[0;34m.\u001b[0m\u001b[0mcategoryNames\u001b[0m \u001b[0;34m=\u001b[0m \u001b[0;34m[\u001b[0m\u001b[0mline\u001b[0m\u001b[0;34m.\u001b[0m\u001b[0mrstrip\u001b[0m\u001b[0;34m(\u001b[0m\u001b[0;34m)\u001b[0m \u001b[0;32mfor\u001b[0m \u001b[0mline\u001b[0m \u001b[0;32min\u001b[0m \u001b[0mopen\u001b[0m\u001b[0;34m(\u001b[0m\u001b[0mos\u001b[0m\u001b[0;34m.\u001b[0m\u001b[0mpath\u001b[0m\u001b[0;34m.\u001b[0m\u001b[0mjoin\u001b[0m\u001b[0;34m(\u001b[0m\u001b[0mrootPath\u001b[0m\u001b[0;34m,\u001b[0m \u001b[0;34m'modelnet40_shape_names.txt'\u001b[0m\u001b[0;34m)\u001b[0m\u001b[0;34m)\u001b[0m\u001b[0;34m]\u001b[0m\u001b[0;34m\u001b[0m\u001b[0;34m\u001b[0m\u001b[0m\n\u001b[0m\u001b[1;32m      4\u001b[0m         \u001b[0mself\u001b[0m\u001b[0;34m.\u001b[0m\u001b[0mclasses\u001b[0m \u001b[0;34m=\u001b[0m \u001b[0mdict\u001b[0m\u001b[0;34m(\u001b[0m\u001b[0mzip\u001b[0m\u001b[0;34m(\u001b[0m\u001b[0mself\u001b[0m\u001b[0;34m.\u001b[0m\u001b[0mcategoryNames\u001b[0m\u001b[0;34m,\u001b[0m \u001b[0mrange\u001b[0m\u001b[0;34m(\u001b[0m\u001b[0mlen\u001b[0m\u001b[0;34m(\u001b[0m\u001b[0mself\u001b[0m\u001b[0;34m.\u001b[0m\u001b[0mcategoryNames\u001b[0m\u001b[0;34m)\u001b[0m\u001b[0;34m)\u001b[0m\u001b[0;34m)\u001b[0m\u001b[0;34m)\u001b[0m\u001b[0;34m\u001b[0m\u001b[0;34m\u001b[0m\u001b[0m\n\u001b[1;32m      5\u001b[0m \u001b[0;34m\u001b[0m\u001b[0m\n",
            "\u001b[0;31mFileNotFoundError\u001b[0m: [Errno 2] No such file or directory: '/content/modelnet40_normal_resampled/modelnet40_shape_names.txt'"
          ]
        }
      ]
    },
    {
      "cell_type": "code",
      "metadata": {
        "id": "hZAeJ_I6Wn4V",
        "colab_type": "code",
        "colab": {}
      },
      "source": [
        "from mpl_toolkits.mplot3d import Axes3D"
      ],
      "execution_count": null,
      "outputs": []
    },
    {
      "cell_type": "code",
      "metadata": {
        "id": "yPUdrz7nzSjw",
        "colab_type": "code",
        "colab": {
          "base_uri": "https://localhost:8080/",
          "height": 66,
          "referenced_widgets": [
            "6e45beae000947b198d2767b4b92ad68",
            "fa76b6d22af8450fb83541d4fe67b754",
            "c6da75cfd2e64a879cd85a6d8501d31b",
            "22257183979d49f396be847d10bb2115",
            "f0dfa17cb2f941d293d49b1e7b029c3f",
            "42f1dc1f494b48cca0cfbbf309d1a298",
            "78ece7a8b9cb4f91bcbe29d15f378e85",
            "0a6c5c15913d4c949cffcd499b0e9394"
          ]
        },
        "outputId": "9d834dd4-cb34-43ed-ecb1-9483d184b1aa"
      },
      "source": [
        "print('Start training... Batch size： %d' % batch_size)\n",
        "for epoch in range(0,num_epoch):\n",
        "    correctRates = []\n",
        "    for batch_id, data in tqdm(enumerate(trainDataLoader, 0), total=len(trainDataLoader)):\n",
        "        points, target = data\n",
        "\n",
        "        # # print(\"points info\")\n",
        "        # # print(points)\n",
        "        # print(points.shape)\n",
        "        # # print(\"target info\")\n",
        "        # # print(target)\n",
        "        # print(target.shape)\n",
        "        # x, y, z = points[5, :, 0], points[5, :, 1], points[5, :, 2]\n",
        "        # ax = plt.subplot(111, projection='3d')  # 3d plot\n",
        "        # ax.scatter(x[:], y[:], z[:], c='y')\n",
        "        # # ax.scatter(x[10:20], y[10:20], z[10:20], c='r')\n",
        "        # # ax.scatter(x[30:40], y[30:40], z[30:40], c='g')\n",
        "        # ax.set_zlabel('Z') \n",
        "        # ax.set_ylabel('Y')\n",
        "        # ax.set_xlabel('X')\n",
        "        # plt.show()\n",
        "        # print(target[5, 0])\n",
        "\n",
        "        points = points.data.numpy()\n",
        "        points = torch.Tensor(points)\n",
        "        target = target[:, 0]\n",
        "\n",
        "        points = points.transpose(2, 1)\n",
        "        points, target = points.cuda(), target.cuda()\n",
        "        optimizer.zero_grad()\n",
        "\n",
        "        model = model.train()\n",
        "        pred, max_indices = model(points)\n",
        "\n",
        "        # print('type(pred): ', type(pred))\n",
        "        # print('pred.shape: ', pred.shape)\n",
        "        # print('type(points): ', type(points))\n",
        "        # print('points.shape: ', points.shape)\n",
        "        # print('type(max_indices): ', type(max_indices))\n",
        "        # print('max_indices.shape: ', max_indices.shape)\n",
        "        # # print(max_indices)\n",
        "        max_indices = max_indices.view(-1, 1024)\n",
        "        # max_indices = max_indices.numpy()\n",
        "        # print(max_indices.shape)\n",
        "        # fifth_max_indices = max_indices[5, :, :].reshape(1024)\n",
        "        # print(\"fifth_max_indices\", fifth_max_indices.shape)\n",
        "        # fifth_max_indices = fifth_max_indices[0]\n",
        "        # print(\"fifth_max_indices[0]\", fifth_max_indices.shape)\n",
        "        x = points[5, max_indices[5], :]\n",
        "        # x, y, z = points[5, max_indices[5, :, 0], :], points[5, max_indices[5, :, :], 1], points[5, max_indices[5, :, :], 2]\n",
        "        # ax = plt.subplot(111, projection='3d')\n",
        "        # ax.scatter(x[:], y[:], z[:], c='r')\n",
        "        # plt.show()\n",
        "\n",
        "        loss = criterion(pred, target.long())\n",
        "        pred_choice = pred.data.max(1)[1]\n",
        "        correct = pred_choice.eq(target.long().data).cpu().sum()\n",
        "        correctRates.append(correct.item() / float(points.size()[0]))\n",
        "        loss.backward()\n",
        "        optimizer.step()\n",
        "\n",
        "    trainEpochAccuracy = np.mean(correctRates)\n",
        "    print('Train Epoch %d Accuracy: %f' %(epoch, trainEpochAccuracy))\n",
        "\n",
        "torch.save(model, 'model.pytorch')"
      ],
      "execution_count": null,
      "outputs": [
        {
          "output_type": "stream",
          "text": [
            "Start training... Batch size： 60\n"
          ],
          "name": "stdout"
        },
        {
          "output_type": "display_data",
          "data": {
            "application/vnd.jupyter.widget-view+json": {
              "model_id": "6e45beae000947b198d2767b4b92ad68",
              "version_minor": 0,
              "version_major": 2
            },
            "text/plain": [
              "HBox(children=(IntProgress(value=0, max=165), HTML(value='')))"
            ]
          },
          "metadata": {
            "tags": []
          }
        }
      ]
    },
    {
      "cell_type": "markdown",
      "metadata": {
        "id": "UhmEJv9yHU_4",
        "colab_type": "text"
      },
      "source": [
        "## Testing"
      ]
    },
    {
      "cell_type": "code",
      "metadata": {
        "id": "96xu7MDSIupR",
        "colab_type": "code",
        "colab": {
          "base_uri": "https://localhost:8080/",
          "height": 390
        },
        "outputId": "f6f30c65-5556-4988-dc12-966cb8c7cc55"
      },
      "source": [
        "# Model class must be defined somewhere\n",
        "model = torch.load('model.pytorch')\n",
        "model.eval()\n",
        "\n",
        "mean_correct = []\n",
        "class_acc = np.zeros((num_classes,3))\n",
        "\n",
        "torch.load('/content/modelnet40_normal_resampled/chair/chair_0001.txt')\n",
        "\n",
        "\n",
        "for batch_id, data in tqdm(enumerate(testDataLoader), total=len(testDataLoader)):\n",
        "    points, target = data\n",
        "    target = target[:, 0]\n",
        "    points = points.transpose(2, 1)\n",
        "    points, target = points.cuda(), target.cuda()\n",
        "    classifier = model.eval()\n",
        "    pred = classifier(points)\n",
        "    pred_choice = pred.data.max(1)[1].type(torch.cuda.IntTensor)\n",
        "    equalCount = (pred_choice == target).cpu().sum()\n",
        "    mean_correct.append(equalCount.item() / float(points.size()[0]))\n",
        "instance_acc = np.mean(mean_correct)\n",
        "print('Test Instance Accuracy: %f' % instance_acc)"
      ],
      "execution_count": null,
      "outputs": [
        {
          "output_type": "error",
          "ename": "FileNotFoundError",
          "evalue": "ignored",
          "traceback": [
            "\u001b[0;31m---------------------------------------------------------------------------\u001b[0m",
            "\u001b[0;31mFileNotFoundError\u001b[0m                         Traceback (most recent call last)",
            "\u001b[0;32m<ipython-input-9-f0e79f49004c>\u001b[0m in \u001b[0;36m<module>\u001b[0;34m()\u001b[0m\n\u001b[0;32m----> 1\u001b[0;31m \u001b[0mmodel\u001b[0m \u001b[0;34m=\u001b[0m \u001b[0mtorch\u001b[0m\u001b[0;34m.\u001b[0m\u001b[0mload\u001b[0m\u001b[0;34m(\u001b[0m\u001b[0;34m'model.pytorch'\u001b[0m\u001b[0;34m)\u001b[0m\u001b[0;34m\u001b[0m\u001b[0;34m\u001b[0m\u001b[0m\n\u001b[0m\u001b[1;32m      2\u001b[0m \u001b[0mmodel\u001b[0m\u001b[0;34m.\u001b[0m\u001b[0meval\u001b[0m\u001b[0;34m(\u001b[0m\u001b[0;34m)\u001b[0m\u001b[0;34m\u001b[0m\u001b[0;34m\u001b[0m\u001b[0m\n\u001b[1;32m      3\u001b[0m \u001b[0;34m\u001b[0m\u001b[0m\n\u001b[1;32m      4\u001b[0m \u001b[0mmean_correct\u001b[0m \u001b[0;34m=\u001b[0m \u001b[0;34m[\u001b[0m\u001b[0;34m]\u001b[0m\u001b[0;34m\u001b[0m\u001b[0;34m\u001b[0m\u001b[0m\n\u001b[1;32m      5\u001b[0m \u001b[0mclass_acc\u001b[0m \u001b[0;34m=\u001b[0m \u001b[0mnp\u001b[0m\u001b[0;34m.\u001b[0m\u001b[0mzeros\u001b[0m\u001b[0;34m(\u001b[0m\u001b[0;34m(\u001b[0m\u001b[0mnum_classes\u001b[0m\u001b[0;34m,\u001b[0m\u001b[0;36m3\u001b[0m\u001b[0;34m)\u001b[0m\u001b[0;34m)\u001b[0m\u001b[0;34m\u001b[0m\u001b[0;34m\u001b[0m\u001b[0m\n",
            "\u001b[0;32m/usr/local/lib/python3.6/dist-packages/torch/serialization.py\u001b[0m in \u001b[0;36mload\u001b[0;34m(f, map_location, pickle_module, **pickle_load_args)\u001b[0m\n\u001b[1;32m    523\u001b[0m         \u001b[0mpickle_load_args\u001b[0m\u001b[0;34m[\u001b[0m\u001b[0;34m'encoding'\u001b[0m\u001b[0;34m]\u001b[0m \u001b[0;34m=\u001b[0m \u001b[0;34m'utf-8'\u001b[0m\u001b[0;34m\u001b[0m\u001b[0;34m\u001b[0m\u001b[0m\n\u001b[1;32m    524\u001b[0m \u001b[0;34m\u001b[0m\u001b[0m\n\u001b[0;32m--> 525\u001b[0;31m     \u001b[0;32mwith\u001b[0m \u001b[0m_open_file_like\u001b[0m\u001b[0;34m(\u001b[0m\u001b[0mf\u001b[0m\u001b[0;34m,\u001b[0m \u001b[0;34m'rb'\u001b[0m\u001b[0;34m)\u001b[0m \u001b[0;32mas\u001b[0m \u001b[0mopened_file\u001b[0m\u001b[0;34m:\u001b[0m\u001b[0;34m\u001b[0m\u001b[0;34m\u001b[0m\u001b[0m\n\u001b[0m\u001b[1;32m    526\u001b[0m         \u001b[0;32mif\u001b[0m \u001b[0m_is_zipfile\u001b[0m\u001b[0;34m(\u001b[0m\u001b[0mopened_file\u001b[0m\u001b[0;34m)\u001b[0m\u001b[0;34m:\u001b[0m\u001b[0;34m\u001b[0m\u001b[0;34m\u001b[0m\u001b[0m\n\u001b[1;32m    527\u001b[0m             \u001b[0;32mwith\u001b[0m \u001b[0m_open_zipfile_reader\u001b[0m\u001b[0;34m(\u001b[0m\u001b[0mf\u001b[0m\u001b[0;34m)\u001b[0m \u001b[0;32mas\u001b[0m \u001b[0mopened_zipfile\u001b[0m\u001b[0;34m:\u001b[0m\u001b[0;34m\u001b[0m\u001b[0;34m\u001b[0m\u001b[0m\n",
            "\u001b[0;32m/usr/local/lib/python3.6/dist-packages/torch/serialization.py\u001b[0m in \u001b[0;36m_open_file_like\u001b[0;34m(name_or_buffer, mode)\u001b[0m\n\u001b[1;32m    210\u001b[0m \u001b[0;32mdef\u001b[0m \u001b[0m_open_file_like\u001b[0m\u001b[0;34m(\u001b[0m\u001b[0mname_or_buffer\u001b[0m\u001b[0;34m,\u001b[0m \u001b[0mmode\u001b[0m\u001b[0;34m)\u001b[0m\u001b[0;34m:\u001b[0m\u001b[0;34m\u001b[0m\u001b[0;34m\u001b[0m\u001b[0m\n\u001b[1;32m    211\u001b[0m     \u001b[0;32mif\u001b[0m \u001b[0m_is_path\u001b[0m\u001b[0;34m(\u001b[0m\u001b[0mname_or_buffer\u001b[0m\u001b[0;34m)\u001b[0m\u001b[0;34m:\u001b[0m\u001b[0;34m\u001b[0m\u001b[0;34m\u001b[0m\u001b[0m\n\u001b[0;32m--> 212\u001b[0;31m         \u001b[0;32mreturn\u001b[0m \u001b[0m_open_file\u001b[0m\u001b[0;34m(\u001b[0m\u001b[0mname_or_buffer\u001b[0m\u001b[0;34m,\u001b[0m \u001b[0mmode\u001b[0m\u001b[0;34m)\u001b[0m\u001b[0;34m\u001b[0m\u001b[0;34m\u001b[0m\u001b[0m\n\u001b[0m\u001b[1;32m    213\u001b[0m     \u001b[0;32melse\u001b[0m\u001b[0;34m:\u001b[0m\u001b[0;34m\u001b[0m\u001b[0;34m\u001b[0m\u001b[0m\n\u001b[1;32m    214\u001b[0m         \u001b[0;32mif\u001b[0m \u001b[0;34m'w'\u001b[0m \u001b[0;32min\u001b[0m \u001b[0mmode\u001b[0m\u001b[0;34m:\u001b[0m\u001b[0;34m\u001b[0m\u001b[0;34m\u001b[0m\u001b[0m\n",
            "\u001b[0;32m/usr/local/lib/python3.6/dist-packages/torch/serialization.py\u001b[0m in \u001b[0;36m__init__\u001b[0;34m(self, name, mode)\u001b[0m\n\u001b[1;32m    191\u001b[0m \u001b[0;32mclass\u001b[0m \u001b[0m_open_file\u001b[0m\u001b[0;34m(\u001b[0m\u001b[0m_opener\u001b[0m\u001b[0;34m)\u001b[0m\u001b[0;34m:\u001b[0m\u001b[0;34m\u001b[0m\u001b[0;34m\u001b[0m\u001b[0m\n\u001b[1;32m    192\u001b[0m     \u001b[0;32mdef\u001b[0m \u001b[0m__init__\u001b[0m\u001b[0;34m(\u001b[0m\u001b[0mself\u001b[0m\u001b[0;34m,\u001b[0m \u001b[0mname\u001b[0m\u001b[0;34m,\u001b[0m \u001b[0mmode\u001b[0m\u001b[0;34m)\u001b[0m\u001b[0;34m:\u001b[0m\u001b[0;34m\u001b[0m\u001b[0;34m\u001b[0m\u001b[0m\n\u001b[0;32m--> 193\u001b[0;31m         \u001b[0msuper\u001b[0m\u001b[0;34m(\u001b[0m\u001b[0m_open_file\u001b[0m\u001b[0;34m,\u001b[0m \u001b[0mself\u001b[0m\u001b[0;34m)\u001b[0m\u001b[0;34m.\u001b[0m\u001b[0m__init__\u001b[0m\u001b[0;34m(\u001b[0m\u001b[0mopen\u001b[0m\u001b[0;34m(\u001b[0m\u001b[0mname\u001b[0m\u001b[0;34m,\u001b[0m \u001b[0mmode\u001b[0m\u001b[0;34m)\u001b[0m\u001b[0;34m)\u001b[0m\u001b[0;34m\u001b[0m\u001b[0;34m\u001b[0m\u001b[0m\n\u001b[0m\u001b[1;32m    194\u001b[0m \u001b[0;34m\u001b[0m\u001b[0m\n\u001b[1;32m    195\u001b[0m     \u001b[0;32mdef\u001b[0m \u001b[0m__exit__\u001b[0m\u001b[0;34m(\u001b[0m\u001b[0mself\u001b[0m\u001b[0;34m,\u001b[0m \u001b[0;34m*\u001b[0m\u001b[0margs\u001b[0m\u001b[0;34m)\u001b[0m\u001b[0;34m:\u001b[0m\u001b[0;34m\u001b[0m\u001b[0;34m\u001b[0m\u001b[0m\n",
            "\u001b[0;31mFileNotFoundError\u001b[0m: [Errno 2] No such file or directory: 'model.pytorch'"
          ]
        }
      ]
    },
    {
      "cell_type": "code",
      "metadata": {
        "id": "JCnEttsXKGsH",
        "colab_type": "code",
        "colab": {
          "base_uri": "https://localhost:8080/",
          "height": 151
        },
        "outputId": "65be8169-2be6-44b0-ced1-60e9f66e52ed"
      },
      "source": [
        "p = torch.tensor([[[2, 3, 5], [6, 1 ,0],[6, 1 ,10],[100,0,-1]], \n",
        "                  [[6, 1 ,0], [2, 3, 5],[6, 1 ,10], [100,0,-2]], \n",
        "                  [[6, 1 ,0], [2, 3, 5],[6, 1 ,10], [100,0,-2]], \n",
        "                  [[6, 1 ,0], [2, 3, 5],[6, 1 ,10], [100,0,-2]], \n",
        "                  [[6, 1 ,0], [2, 3, 5],[6, 1 ,10], [100,0,-2]]]).cuda()\n",
        "x, max_idx = torch.max(p, 1, keepdim=True)\n",
        "max_idx = max_idx.view(-1, 3)\n",
        "# print('type(p): ', type(p))\n",
        "# print('p.shape: ', p.shape)\n",
        "print(max_idx)\n",
        "y = p[1,max_idx[1],:]\n",
        "print(y)"
      ],
      "execution_count": null,
      "outputs": [
        {
          "output_type": "stream",
          "text": [
            "tensor([[3, 0, 2],\n",
            "        [3, 1, 2],\n",
            "        [3, 1, 2],\n",
            "        [3, 1, 2],\n",
            "        [3, 1, 2]], device='cuda:0')\n",
            "tensor([[100,   0,  -2],\n",
            "        [  2,   3,   5],\n",
            "        [  6,   1,  10]], device='cuda:0')\n"
          ],
          "name": "stdout"
        }
      ]
    },
    {
      "cell_type": "code",
      "metadata": {
        "id": "JluMjejRWo3m",
        "colab_type": "code",
        "colab": {
          "base_uri": "https://localhost:8080/",
          "height": 349
        },
        "outputId": "ec124d69-e855-472c-9716-7d1bc96ec36e"
      },
      "source": [
        "# Model class must be defined somewhere\n",
        "# model = torch.load('model.pytorch')\n",
        "# model.eval()\n",
        "\n",
        "from numpy import genfromtxt\n",
        "testPoints = genfromtxt('/content/modelnet40_normal_resampled/chair/chair_0009.txt',delimiter=',')\n",
        "testPoints = testPoints[8000:9024, 0:3]\n",
        "# testPoints = testPoints[0:1024, 0:3]\n",
        "\n",
        "# testPoints = farthest_point_sample(testPoints, sample_point_count)\n",
        "# # print(\"shape of testPoints\", testPoints.shape)\n",
        "# testPoints = testPoints[:, 0:3]\n",
        "testPoints = torch.tensor(testPoints).cuda()\n",
        "\n",
        "testPoints = torch.transpose(testPoints, 0, 1)\n",
        "testPoints = testPoints.view(-1, 3, 1024)\n",
        "testPoints = testPoints.float()\n",
        "\n",
        "# pred, max_indices = model(testPoints)\n",
        "print(testPoints)\n",
        "testPoints = testPoints.cpu().numpy()\n",
        "print(testPoints.shape)\n",
        "x, y, z = testPoints[:, 0, :], testPoints[:, 1, :], testPoints[:, 2, :]\n",
        "ax = plt.subplot(111, projection='3d')  # 3d plot\n",
        "ax.scatter(x[:], y[:], z[:], c='y')\n",
        "\n",
        "# y = testPoints[0, max_indices[0], :]\n",
        "# ax = plt.subplot(111, projection='3d')\n",
        "# ax.scatter(x[:], y[:], z[:], c='r')\n",
        "# max_indices = max_indices.cpu().numpy()\n",
        "\n",
        "# x, y, z = testPoints[0, 0, max_indices[0]], testPoints[0, 1, max_indices[0]], testPoints[0, 2,max_indices[0]]\n",
        "# ax = plt.subplot(111, projection='3d')\n",
        "# ax.scatter(x[:], y[:], z[:], c='r')\n",
        "# plt.show()\n",
        "# print(max_indices.shape)\n",
        "# print(max_indices)\n",
        "# points, target = data\n",
        "# target = target[:, 0]\n",
        "# points = points.transpose(2, 1)\n",
        "# points, target = points.cuda(), target.cuda()\n",
        "# classifier = model.eval()\n",
        "# pred = classifier(points)\n",
        "# pred_choice = pred.data.max(1)[1].type(torch.cuda.IntTensor)\n",
        "# equalCount = (pred_choice == target).cpu().sum()\n",
        "# mean_correct.append(equalCount.item() / float(points.size()[0]))"
      ],
      "execution_count": null,
      "outputs": [
        {
          "output_type": "stream",
          "text": [
            "tensor([[[-0.3495,  0.0416,  0.4857,  ...,  0.3495, -0.3744,  0.4410],\n",
            "         [ 0.1553,  0.1553,  0.0547,  ...,  0.1553,  0.3328, -0.2581],\n",
            "         [ 0.0137,  0.1469,  0.4324,  ..., -0.2359,  0.4469, -0.3695]]],\n",
            "       device='cuda:0')\n",
            "(1, 3, 1024)\n"
          ],
          "name": "stdout"
        },
        {
          "output_type": "execute_result",
          "data": {
            "text/plain": [
              "<mpl_toolkits.mplot3d.art3d.Path3DCollection at 0x7f610979c4e0>"
            ]
          },
          "metadata": {
            "tags": []
          },
          "execution_count": 18
        },
        {
          "output_type": "display_data",
          "data": {
            "image/png": "[encoded data removed]",
            "text/plain": [
              "<Figure size 432x288 with 1 Axes>"
            ]
          },
          "metadata": {
            "tags": [],
            "needs_background": "light"
          }
        }
      ]
    },
    {
      "cell_type": "code",
      "metadata": {
        "id": "HQ4y28O0W6x7",
        "colab_type": "code",
        "colab": {}
      },
      "source": [
        ""
      ],
      "execution_count": null,
      "outputs": []
    }
  ]
}