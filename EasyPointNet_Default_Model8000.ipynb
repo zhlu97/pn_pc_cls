{
  "nbformat": 4,
  "nbformat_minor": 0,
  "metadata": {
    "colab": {
      "name": "EasyPointNet_Default Model8000.ipynb",
      "provenance": [],
      "collapsed_sections": [],
      "toc_visible": true,
      "include_colab_link": true
    },
    "kernelspec": {
      "name": "python3",
      "display_name": "Python 3"
    },
    "accelerator": "GPU",
    "widgets": {
      "application/vnd.jupyter.widget-state+json": {
        "7657cebf329643d38dac3e5284554fab": {
          "model_module": "@jupyter-widgets/controls",
          "model_name": "HBoxModel",
          "state": {
            "_view_name": "HBoxView",
            "_dom_classes": [],
            "_model_name": "HBoxModel",
            "_view_module": "@jupyter-widgets/controls",
            "_model_module_version": "1.5.0",
            "_view_count": null,
            "_view_module_version": "1.5.0",
            "box_style": "",
            "layout": "IPY_MODEL_1e2c2c0cf08a4c589a73834c0c991d40",
            "_model_module": "@jupyter-widgets/controls",
            "children": [
              "IPY_MODEL_b44f7586dd364d2ea7750498a0f48a33",
              "IPY_MODEL_6470273af4874a208292aafd267b82cd"
            ]
          }
        },
        "1e2c2c0cf08a4c589a73834c0c991d40": {
          "model_module": "@jupyter-widgets/base",
          "model_name": "LayoutModel",
          "state": {
            "_view_name": "LayoutView",
            "grid_template_rows": null,
            "right": null,
            "justify_content": null,
            "_view_module": "@jupyter-widgets/base",
            "_model_module_version": "1.2.0",
            "_view_count": null,
            "flex_flow": null,
            "min_width": null,
            "border": null,
            "align_items": null,
            "bottom": null,
            "_model_module": "@jupyter-widgets/base",
            "top": null,
            "grid_column": null,
            "width": null,
            "overflow_x": null,
            "grid_auto_flow": null,
            "grid_area": null,
            "grid_template_columns": null,
            "flex": null,
            "_model_name": "LayoutModel",
            "justify_items": null,
            "grid_row": null,
            "max_height": null,
            "align_content": null,
            "visibility": null,
            "overflow": null,
            "height": null,
            "min_height": null,
            "padding": null,
            "grid_auto_rows": null,
            "grid_gap": null,
            "overflow_y": null,
            "max_width": null,
            "order": null,
            "_view_module_version": "1.2.0",
            "align_self": null,
            "grid_template_areas": null,
            "object_position": null,
            "object_fit": null,
            "grid_auto_columns": null,
            "margin": null,
            "display": null,
            "left": null
          }
        },
        "b44f7586dd364d2ea7750498a0f48a33": {
          "model_module": "@jupyter-widgets/controls",
          "model_name": "FloatProgressModel",
          "state": {
            "_view_name": "ProgressView",
            "style": "IPY_MODEL_b2f620502ab14176ad4d5a7b9284de45",
            "_view_module": "@jupyter-widgets/controls",
            "_dom_classes": [],
            "orientation": "horizontal",
            "min": 0,
            "bar_style": "success",
            "max": 42,
            "_model_name": "FloatProgressModel",
            "_model_module_version": "1.5.0",
            "value": 42,
            "_view_count": null,
            "_view_module_version": "1.5.0",
            "description_tooltip": null,
            "_model_module": "@jupyter-widgets/controls",
            "layout": "IPY_MODEL_448088bc928941b4ac6b32054b3f9f9f",
            "description": "100%"
          }
        },
        "6470273af4874a208292aafd267b82cd": {
          "model_module": "@jupyter-widgets/controls",
          "model_name": "HTMLModel",
          "state": {
            "_view_name": "HTMLView",
            "style": "IPY_MODEL_7ad127f6ffaa405cb62f0183e1e022ea",
            "_dom_classes": [],
            "description": "",
            "_model_name": "HTMLModel",
            "placeholder": "​",
            "_view_module": "@jupyter-widgets/controls",
            "_model_module_version": "1.5.0",
            "value": " 42/42 [01:00&lt;00:00,  1.44s/it]",
            "_view_count": null,
            "_view_module_version": "1.5.0",
            "description_tooltip": null,
            "_model_module": "@jupyter-widgets/controls",
            "layout": "IPY_MODEL_ec4b5601478d448c8655acdaed3dc623"
          }
        },
        "b2f620502ab14176ad4d5a7b9284de45": {
          "model_module": "@jupyter-widgets/controls",
          "model_name": "ProgressStyleModel",
          "state": {
            "_view_name": "StyleView",
            "_model_name": "ProgressStyleModel",
            "description_width": "initial",
            "_view_module": "@jupyter-widgets/base",
            "_model_module_version": "1.5.0",
            "_view_count": null,
            "_view_module_version": "1.2.0",
            "bar_color": null,
            "_model_module": "@jupyter-widgets/controls"
          }
        },
        "448088bc928941b4ac6b32054b3f9f9f": {
          "model_module": "@jupyter-widgets/base",
          "model_name": "LayoutModel",
          "state": {
            "_view_name": "LayoutView",
            "grid_template_rows": null,
            "right": null,
            "justify_content": null,
            "_view_module": "@jupyter-widgets/base",
            "_model_module_version": "1.2.0",
            "_view_count": null,
            "flex_flow": null,
            "min_width": null,
            "border": null,
            "align_items": null,
            "bottom": null,
            "_model_module": "@jupyter-widgets/base",
            "top": null,
            "grid_column": null,
            "width": null,
            "overflow_x": null,
            "grid_auto_flow": null,
            "grid_area": null,
            "grid_template_columns": null,
            "flex": null,
            "_model_name": "LayoutModel",
            "justify_items": null,
            "grid_row": null,
            "max_height": null,
            "align_content": null,
            "visibility": null,
            "overflow": null,
            "height": null,
            "min_height": null,
            "padding": null,
            "grid_auto_rows": null,
            "grid_gap": null,
            "overflow_y": null,
            "max_width": null,
            "order": null,
            "_view_module_version": "1.2.0",
            "align_self": null,
            "grid_template_areas": null,
            "object_position": null,
            "object_fit": null,
            "grid_auto_columns": null,
            "margin": null,
            "display": null,
            "left": null
          }
        },
        "7ad127f6ffaa405cb62f0183e1e022ea": {
          "model_module": "@jupyter-widgets/controls",
          "model_name": "DescriptionStyleModel",
          "state": {
            "_view_name": "StyleView",
            "_model_name": "DescriptionStyleModel",
            "description_width": "",
            "_view_module": "@jupyter-widgets/base",
            "_model_module_version": "1.5.0",
            "_view_count": null,
            "_view_module_version": "1.2.0",
            "_model_module": "@jupyter-widgets/controls"
          }
        },
        "ec4b5601478d448c8655acdaed3dc623": {
          "model_module": "@jupyter-widgets/base",
          "model_name": "LayoutModel",
          "state": {
            "_view_name": "LayoutView",
            "grid_template_rows": null,
            "right": null,
            "justify_content": null,
            "_view_module": "@jupyter-widgets/base",
            "_model_module_version": "1.2.0",
            "_view_count": null,
            "flex_flow": null,
            "min_width": null,
            "border": null,
            "align_items": null,
            "bottom": null,
            "_model_module": "@jupyter-widgets/base",
            "top": null,
            "grid_column": null,
            "width": null,
            "overflow_x": null,
            "grid_auto_flow": null,
            "grid_area": null,
            "grid_template_columns": null,
            "flex": null,
            "_model_name": "LayoutModel",
            "justify_items": null,
            "grid_row": null,
            "max_height": null,
            "align_content": null,
            "visibility": null,
            "overflow": null,
            "height": null,
            "min_height": null,
            "padding": null,
            "grid_auto_rows": null,
            "grid_gap": null,
            "overflow_y": null,
            "max_width": null,
            "order": null,
            "_view_module_version": "1.2.0",
            "align_self": null,
            "grid_template_areas": null,
            "object_position": null,
            "object_fit": null,
            "grid_auto_columns": null,
            "margin": null,
            "display": null,
            "left": null
          }
        }
      }
    }
  },
  "cells": [
    {
      "cell_type": "markdown",
      "metadata": {
        "id": "view-in-github",
        "colab_type": "text"
      },
      "source": [
        "<a href=\"https://colab.research.google.com/github/zhlu97/pn_pc_cls/blob/master/EasyPointNet_Default_Model8000.ipynb\" target=\"_parent\"><img src=\"https://colab.research.google.com/assets/colab-badge.svg\" alt=\"Open In Colab\"/></a>"
      ]
    },
    {
      "cell_type": "markdown",
      "metadata": {
        "id": "0SGGRqEsBTX_",
        "colab_type": "text"
      },
      "source": [
        "# Easiest PointNet Possible"
      ]
    },
    {
      "cell_type": "markdown",
      "metadata": {
        "id": "aIItjvl-0v6X",
        "colab_type": "text"
      },
      "source": [
        "## Fetch ModelNet40 and Decompress"
      ]
    },
    {
      "cell_type": "code",
      "metadata": {
        "id": "EeMr-nS001Ae",
        "colab_type": "code",
        "colab": {
          "base_uri": "https://localhost:8080/",
          "height": 204
        },
        "outputId": "f6d35cda-597c-4827-ca81-9470dee07905"
      },
      "source": [
        "!wget https://shapenet.cs.stanford.edu/media/modelnet40_normal_resampled.zip"
      ],
      "execution_count": null,
      "outputs": [
        {
          "output_type": "stream",
          "text": [
            "--2020-04-21 18:22:50--  https://shapenet.cs.stanford.edu/media/modelnet40_normal_resampled.zip\n",
            "Resolving shapenet.cs.stanford.edu (shapenet.cs.stanford.edu)... 171.67.77.19\n",
            "Connecting to shapenet.cs.stanford.edu (shapenet.cs.stanford.edu)|171.67.77.19|:443... connected.\n",
            "HTTP request sent, awaiting response... 200 OK\n",
            "Length: 1705117335 (1.6G) [application/zip]\n",
            "Saving to: ‘modelnet40_normal_resampled.zip’\n",
            "\n",
            "modelnet40_normal_r 100%[===================>]   1.59G  3.34MB/s    in 14m 21s \n",
            "\n",
            "2020-04-21 18:37:12 (1.89 MB/s) - ‘modelnet40_normal_resampled.zip’ saved [1705117335/1705117335]\n",
            "\n"
          ],
          "name": "stdout"
        }
      ]
    },
    {
      "cell_type": "code",
      "metadata": {
        "id": "qrCTYNuq02px",
        "colab_type": "code",
        "colab": {}
      },
      "source": [
        "%%capture\n",
        "!unzip modelnet40_normal_resampled.zip"
      ],
      "execution_count": null,
      "outputs": []
    },
    {
      "cell_type": "markdown",
      "metadata": {
        "id": "NrQmdNrxBdd3",
        "colab_type": "text"
      },
      "source": [
        "## Import Libraries"
      ]
    },
    {
      "cell_type": "code",
      "metadata": {
        "id": "8MsGEo9sBlkU",
        "colab_type": "code",
        "colab": {}
      },
      "source": [
        "import numpy as np\n",
        "import warnings\n",
        "import os\n",
        "from torch.utils.data import Dataset\n",
        "warnings.filterwarnings('ignore')\n",
        "\n",
        "import torch\n",
        "import logging\n",
        "# from tqdm import tqdm\n",
        "from tqdm.notebook import tqdm\n",
        "import sys\n",
        "import importlib\n",
        "\n",
        "import torch.nn.parallel\n",
        "import torch.utils.data\n",
        "from torch.autograd import Variable\n",
        "\n",
        "import torch.nn.functional as F"
      ],
      "execution_count": null,
      "outputs": []
    },
    {
      "cell_type": "markdown",
      "metadata": {
        "id": "H_9u9KBWEldg",
        "colab_type": "text"
      },
      "source": [
        "## Define hyperparameters"
      ]
    },
    {
      "cell_type": "code",
      "metadata": {
        "id": "VcAA2WSZEkzT",
        "colab_type": "code",
        "colab": {}
      },
      "source": [
        "batch_size = 60\n",
        "sample_point_count = 1024\n",
        "num_classes = 40\n",
        "num_epoch = 66\n",
        "learning_rate = 0.001\n",
        "# rootPath = '/content/modelnet40_normal_resampled/'\n",
        "rootPath = '/home/haokun/Downloads/modelnet40_normal_resampled'"
      ],
      "execution_count": null,
      "outputs": []
    },
    {
      "cell_type": "markdown",
      "metadata": {
        "id": "Fuf7qUU_CSL3",
        "colab_type": "text"
      },
      "source": [
        "## Dataloader"
      ]
    },
    {
      "cell_type": "markdown",
      "metadata": {
        "id": "iaawGnGFnpXD",
        "colab_type": "text"
      },
      "source": [
        "### To use Pytorch's built-in dataloader, must implement subclass and override all three functions below."
      ]
    },
    {
      "cell_type": "code",
      "metadata": {
        "id": "kdHrasQRCvFI",
        "colab_type": "code",
        "colab": {}
      },
      "source": [
        "class ModelNetResampledLoader(Dataset):\n",
        "  def __init__(self, rootPath, mode):\n",
        "        self.categoryNames = [line.rstrip() for line in open(os.path.join(rootPath, 'modelnet40_shape_names.txt'))]\n",
        "        self.classes = dict(zip(self.categoryNames, range(len(self.categoryNames))))\n",
        "\n",
        "        self.all_IDs = {}\n",
        "        self.all_IDs['train'] = [line.rstrip() for line in open(os.path.join(rootPath, 'modelnet40_train.txt'))]\n",
        "        self.all_IDs['test']  = [line.rstrip() for line in open(os.path.join(rootPath, 'modelnet40_test.txt'))]   \n",
        "\n",
        "        shape_names = ['_'.join(x.split('_')[0:-1]) for x in self.all_IDs[mode]]\n",
        "        self.datapath = [(shape_names[i], os.path.join(rootPath, shape_names[i], self.all_IDs[mode][i]) + '.txt') for i\n",
        "                         in range(len(self.all_IDs[mode]))]        \n",
        "\n",
        "  def __len__(self):\n",
        "        'Denotes the total number of samples'\n",
        "        return len(self.datapath)\n",
        "\n",
        "  def __getitem__(self, index):\n",
        "        selectedDatapaths = self.datapath[index]\n",
        "        selectedClasses   = self.classes[selectedDatapaths[0]]\n",
        "        selectedClasses   = np.array([selectedClasses]).astype(np.int32)\n",
        "\n",
        "        pointSet = np.loadtxt(selectedDatapaths[1], delimiter=',').astype(np.float32)\n",
        "        pointSet = pointSet[8000:8000+sample_point_count,:] #Only choosing first 1024? -- Points have no ordering. We can already see shape with first 1024 pts\n",
        "        pointSet = pointSet[:, 0:3]\n",
        "\n",
        "        return pointSet, selectedClasses"
      ],
      "execution_count": null,
      "outputs": []
    },
    {
      "cell_type": "markdown",
      "metadata": {
        "id": "UC-BxaFgotWJ",
        "colab_type": "text"
      },
      "source": [
        "## Simpliest PointNet Model"
      ]
    },
    {
      "cell_type": "code",
      "metadata": {
        "id": "6Wh7MyRwoycu",
        "colab_type": "code",
        "colab": {}
      },
      "source": [
        "class STNkd(torch.nn.Module):\n",
        "    def __init__(self, k=64):\n",
        "        super(STNkd, self).__init__()\n",
        "        self.conv1 = torch.nn.Conv1d(k, 64, 1)\n",
        "        self.conv2 = torch.nn.Conv1d(64, 128, 1)\n",
        "        self.conv3 = torch.nn.Conv1d(128, 1024, 1)\n",
        "        self.fc1 = torch.nn.Linear(1024, 512)\n",
        "        self.fc2 = torch.nn.Linear(512, 256)\n",
        "        self.fc3 = torch.nn.Linear(256, k * k)\n",
        "        self.relu = torch.nn.ReLU()\n",
        "\n",
        "        self.bn1 = torch.nn.BatchNorm1d(64)\n",
        "        self.bn2 = torch.nn.BatchNorm1d(128)\n",
        "        self.bn3 = torch.nn.BatchNorm1d(1024)\n",
        "        self.bn4 = torch.nn.BatchNorm1d(512)\n",
        "        self.bn5 = torch.nn.BatchNorm1d(256)\n",
        "\n",
        "        self.k = k\n",
        "\n",
        "    def forward(self, x):\n",
        "        batchsize = x.size()[0]\n",
        "        x = F.relu(self.bn1(self.conv1(x)))\n",
        "        x = F.relu(self.bn2(self.conv2(x)))\n",
        "        x = F.relu(self.bn3(self.conv3(x)))\n",
        "        x = torch.max(x, 2, keepdim=True)[0]\n",
        "        x = x.view(-1, 1024)\n",
        "\n",
        "        x = F.relu(self.bn4(self.fc1(x)))\n",
        "        x = F.relu(self.bn5(self.fc2(x)))\n",
        "        x = self.fc3(x)\n",
        "\n",
        "        iden = Variable(torch.from_numpy(np.eye(self.k).flatten().astype(np.float32))).view(1, self.k * self.k).repeat(\n",
        "            batchsize, 1)\n",
        "        if x.is_cuda:\n",
        "            iden = iden.cuda()\n",
        "        x = x + iden\n",
        "        x = x.view(-1, self.k, self.k)\n",
        "        return x\n",
        "\n",
        "class TNet(torch.nn.Module):\n",
        "    def __init__(self, channel=3):\n",
        "        super(TNet, self).__init__()\n",
        "        self.channel = channel\n",
        "        self.affine = torch.nn.Linear(channel, channel)\n",
        "\n",
        "    def forward(self, x):\n",
        "        print(torch.transpose(x, 2, 1))\n",
        "        return self.affine(torch.transpose(x, 2, 1))\n",
        "\n",
        "class PointNetEncoder(torch.nn.Module):\n",
        "    def __init__(self, channel=3):\n",
        "        super(PointNetEncoder, self).__init__()\n",
        "\n",
        "        # self.tNet3 = TNet(channel)\n",
        "        self.tNet3 = STNkd(channel)\n",
        "        self.featureExpansion_3_64 = torch.nn.Sequential(\n",
        "            torch.nn.Conv1d(channel, 64, 1),\n",
        "            torch.nn.BatchNorm1d(64)\n",
        "        )\n",
        "        # self.tNet64 = TNet(64)\n",
        "        self.tNet64 = STNkd(64)\n",
        "        self.featureExpansion_64_128_1024 = torch.nn.Sequential(\n",
        "            torch.nn.Conv1d(64, 64, 1),\n",
        "            torch.nn.BatchNorm1d(64),\n",
        "            torch.nn.Conv1d(64, 128, 1),\n",
        "            torch.nn.BatchNorm1d(128),\n",
        "            torch.nn.Conv1d(128, 1024, 1),\n",
        "            torch.nn.BatchNorm1d(1024)\n",
        "        )\n",
        "\n",
        "    def forward(self, x):\n",
        "        B, D, N = x.size()\n",
        "\n",
        "        inputTransform = self.tNet3(x)\n",
        "        \n",
        "        x = x.transpose(2, 1)\n",
        "        x = torch.bmm(x, inputTransform)\n",
        "        x = x.transpose(2, 1)\n",
        "\n",
        "        x = self.featureExpansion_3_64(x)\n",
        "        featTranform = self.tNet64(x)\n",
        "        x = x.transpose(2, 1)\n",
        "        x = torch.bmm(x, featTranform)\n",
        "        x = x.transpose(2, 1)\n",
        "\n",
        "        pointfeat = x\n",
        "        x = self.featureExpansion_64_128_1024(x)\n",
        "        x = torch.max(x, 2, keepdim=True)[0]\n",
        "        x = x.view(-1, 1024)\n",
        "\n",
        "        return x, inputTransform, featTranform\n",
        "\n",
        "class Model(torch.nn.Module):\n",
        "    def __init__(self, channel = 3):\n",
        "        super(Model, self).__init__()\n",
        "\n",
        "        self.pointNetEncoder = PointNetEncoder(channel=channel)\n",
        "\n",
        "        self.pointNetDecoder = torch.nn.Sequential(\n",
        "            torch.nn.Linear(1024, 512),\n",
        "            torch.nn.BatchNorm1d(512),\n",
        "            torch.nn.ReLU(),\n",
        "            torch.nn.Linear(512, 256),\n",
        "            torch.nn.Dropout(p=0.4),\n",
        "            torch.nn.BatchNorm1d(256),\n",
        "            torch.nn.ReLU(),\n",
        "            torch.nn.Linear(256, num_classes),\n",
        "            torch.nn.Softmax(dim = 1)\n",
        "        )\n",
        "\n",
        "    def forward(self, x):\n",
        "        x, inputTransform, featTranform = self.pointNetEncoder(x)\n",
        "        x = self.pointNetDecoder(x)\n",
        "\n",
        "        return x\n",
        "\n",
        "class Loss(torch.nn.Module):\n",
        "    def __init__(self):\n",
        "        super(Loss, self).__init__()\n",
        "\n",
        "    def forward(self, pred, target):\n",
        "        loss = torch.nn.functional.nll_loss(pred, target)\n",
        "        return loss"
      ],
      "execution_count": null,
      "outputs": []
    },
    {
      "cell_type": "markdown",
      "metadata": {
        "id": "YRKCWcgpzQGO",
        "colab_type": "text"
      },
      "source": [
        "## Training"
      ]
    },
    {
      "cell_type": "code",
      "metadata": {
        "id": "y_JSDlG2zl-m",
        "colab_type": "code",
        "colab": {}
      },
      "source": [
        "# Get data loader\n",
        "trainData = ModelNetResampledLoader(rootPath=rootPath, mode='train')\n",
        "testData  = ModelNetResampledLoader(rootPath=rootPath, mode='test')\n",
        "trainDataLoader = torch.utils.data.DataLoader(trainData, batch_size=batch_size, shuffle=True, num_workers=4)\n",
        "testDataLoader  = torch.utils.data.DataLoader(testData, batch_size=batch_size, shuffle=False, num_workers=4)\n",
        "\n",
        "# Get model\n",
        "model = Model().cuda()\n",
        "criterion = Loss().cuda()\n",
        "optimizer = torch.optim.Adam(model.parameters(), lr=learning_rate)\n",
        "\n",
        "# # Print model's state_dict\n",
        "# print(\"Model's state_dict:\")\n",
        "# for param_tensor in model.state_dict():\n",
        "#     print(param_tensor, \"\\t\", model.state_dict()[param_tensor].size())\n",
        "\n",
        "# # Print optimizer's state_dict\n",
        "# print(\"Optimizer's state_dict:\")\n",
        "# for var_name in optimizer.state_dict():\n",
        "#     print(var_name, \"\\t\", optimizer.state_dict()[var_name])"
      ],
      "execution_count": null,
      "outputs": []
    },
    {
      "cell_type": "code",
      "metadata": {
        "id": "yPUdrz7nzSjw",
        "colab_type": "code",
        "colab": {}
      },
      "source": [
        "print('Start training... Batch size： %d' % batch_size)\n",
        "epoch_accuracy = []\n",
        "epoch_loss = []\n",
        "for epoch in range(0,num_epoch):\n",
        "    correctRates = []\n",
        "    lossCur = []\n",
        "    for batch_id, data in tqdm(enumerate(trainDataLoader, 0), total=len(trainDataLoader)):\n",
        "        points, target = data\n",
        "        points = points.data.numpy()\n",
        "        points = torch.Tensor(points)\n",
        "        target = target[:, 0]\n",
        "\n",
        "        points = points.transpose(2, 1)\n",
        "        points, target = points.cuda(), target.cuda()\n",
        "        optimizer.zero_grad()\n",
        "\n",
        "        model = model.train()\n",
        "        pred = model(points)\n",
        "        loss = criterion(pred, target.long())\n",
        "        lossCur.append(loss.data.cpu().numpy())\n",
        "        pred_choice = pred.data.max(1)[1]\n",
        "        correct = pred_choice.eq(target.long().data).cpu().sum()\n",
        "        correctRates.append(correct.item() / float(points.size()[0]))\n",
        "        loss.backward()\n",
        "        optimizer.step()\n",
        "\n",
        "    trainEpochAccuracy = np.mean(correctRates)\n",
        "    print('Train Epoch %d Accuracy: %f' %(epoch, trainEpochAccuracy))\n",
        "    epoch_accuracy.append(trainEpochAccuracy)\n",
        "    epoch_loss.append(np.exp(np.mean(lossCur))) # what we are using is negative log likelihood loss\n",
        "\n",
        "torch.save(model, 'model.pytorch')\n",
        "\n",
        "np.save(\"epoch_accuracy.npy\", epoch_accuracy)\n",
        "np.save(\"epoch_loss.npy\", epoch_loss)"
      ],
      "execution_count": null,
      "outputs": []
    },
    {
      "cell_type": "markdown",
      "metadata": {
        "id": "UhmEJv9yHU_4",
        "colab_type": "text"
      },
      "source": [
        "## Testing"
      ]
    },
    {
      "cell_type": "code",
      "metadata": {
        "id": "96xu7MDSIupR",
        "colab_type": "code",
        "colab": {
          "base_uri": "https://localhost:8080/",
          "height": 83,
          "referenced_widgets": [
            "7657cebf329643d38dac3e5284554fab",
            "1e2c2c0cf08a4c589a73834c0c991d40",
            "b44f7586dd364d2ea7750498a0f48a33",
            "6470273af4874a208292aafd267b82cd",
            "b2f620502ab14176ad4d5a7b9284de45",
            "448088bc928941b4ac6b32054b3f9f9f",
            "7ad127f6ffaa405cb62f0183e1e022ea",
            "ec4b5601478d448c8655acdaed3dc623"
          ]
        },
        "outputId": "e1e20666-43b1-466c-c88b-d8ec90814199"
      },
      "source": [
        "# Model class must be defined somewhere\n",
        "model = torch.load('model.pytorch')\n",
        "model.eval()\n",
        "\n",
        "mean_correct = []\n",
        "class_acc = np.zeros((num_classes,3))\n",
        "for batch_id, data in tqdm(enumerate(testDataLoader), total=len(testDataLoader)):\n",
        "    points, target = data\n",
        "    target = target[:, 0]\n",
        "    points = points.transpose(2, 1)\n",
        "    points, target = points.cuda(), target.cuda()\n",
        "    classifier = model.eval()\n",
        "    pred = classifier(points)\n",
        "    pred_choice = pred.data.max(1)[1].type(torch.cuda.IntTensor)\n",
        "    equalCount = (pred_choice == target).cpu().sum()\n",
        "    mean_correct.append(equalCount.item() / float(points.size()[0]))\n",
        "instance_acc = np.mean(mean_correct)\n",
        "print('Test Instance Accuracy: %f' % instance_acc)"
      ],
      "execution_count": null,
      "outputs": [
        {
          "output_type": "display_data",
          "data": {
            "application/vnd.jupyter.widget-view+json": {
              "model_id": "7657cebf329643d38dac3e5284554fab",
              "version_minor": 0,
              "version_major": 2
            },
            "text/plain": [
              "HBox(children=(FloatProgress(value=0.0, max=42.0), HTML(value=u'')))"
            ]
          },
          "metadata": {
            "tags": []
          }
        },
        {
          "output_type": "stream",
          "text": [
            "\n",
            "Test Instance Accuracy: 0.497222\n"
          ],
          "name": "stdout"
        }
      ]
    },
    {
      "cell_type": "code",
      "metadata": {
        "id": "JCnEttsXKGsH",
        "colab_type": "code",
        "colab": {}
      },
      "source": [
        ""
      ],
      "execution_count": null,
      "outputs": []
    }
  ]
}