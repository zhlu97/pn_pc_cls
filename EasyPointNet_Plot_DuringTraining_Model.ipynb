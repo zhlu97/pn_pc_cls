{
  "nbformat": 4,
  "nbformat_minor": 0,
  "metadata": {
    "colab": {
      "name": "EasyPointNet_Plot_DuringTraining Model.ipynb",
      "provenance": [],
      "collapsed_sections": [],
      "toc_visible": true,
      "include_colab_link": true
    },
    "kernelspec": {
      "name": "python3",
      "display_name": "Python 3"
    },
    "accelerator": "GPU",
    "widgets": {
      "application/vnd.jupyter.widget-state+json": {
        "30e3fbbd0cfc4216836070a746ae1354": {
          "model_module": "@jupyter-widgets/controls",
          "model_name": "HBoxModel",
          "state": {
            "_dom_classes": [],
            "_model_module": "@jupyter-widgets/controls",
            "_model_module_version": "1.5.0",
            "_model_name": "HBoxModel",
            "_view_count": null,
            "_view_module": "@jupyter-widgets/controls",
            "_view_module_version": "1.5.0",
            "_view_name": "HBoxView",
            "box_style": "",
            "children": [
              "IPY_MODEL_be3b036692cf4c2abd31f0fc0f32e0d0",
              "IPY_MODEL_a1875e59c1064ec7aa45d437888d2066"
            ],
            "layout": "IPY_MODEL_4cdb98968cd24fecaaaf2b4efe36b303"
          }
        },
        "be3b036692cf4c2abd31f0fc0f32e0d0": {
          "model_module": "@jupyter-widgets/controls",
          "model_name": "IntProgressModel",
          "state": {
            "_dom_classes": [],
            "_model_module": "@jupyter-widgets/controls",
            "_model_module_version": "1.5.0",
            "_model_name": "IntProgressModel",
            "_view_count": null,
            "_view_module": "@jupyter-widgets/controls",
            "_view_module_version": "1.5.0",
            "_view_name": "ProgressView",
            "bar_style": "success",
            "description": "100%",
            "description_tooltip": null,
            "layout": "IPY_MODEL_04525b596e344f759f931bfb26e34b5e",
            "max": 165,
            "min": 0,
            "orientation": "horizontal",
            "style": "IPY_MODEL_1d62ff6c3bcd4271ab2ceb5b3e2abf9d",
            "value": 165
          }
        },
        "a1875e59c1064ec7aa45d437888d2066": {
          "model_module": "@jupyter-widgets/controls",
          "model_name": "HTMLModel",
          "state": {
            "_dom_classes": [],
            "_model_module": "@jupyter-widgets/controls",
            "_model_module_version": "1.5.0",
            "_model_name": "HTMLModel",
            "_view_count": null,
            "_view_module": "@jupyter-widgets/controls",
            "_view_module_version": "1.5.0",
            "_view_name": "HTMLView",
            "description": "",
            "description_tooltip": null,
            "layout": "IPY_MODEL_b65955c4676449a58686dbbafbe50d09",
            "placeholder": "​",
            "style": "IPY_MODEL_2ddd8c9fabd742b3b60c3e5d77879e0c",
            "value": " 165/165 [21:36&lt;00:00,  7.86s/it]"
          }
        },
        "4cdb98968cd24fecaaaf2b4efe36b303": {
          "model_module": "@jupyter-widgets/base",
          "model_name": "LayoutModel",
          "state": {
            "_model_module": "@jupyter-widgets/base",
            "_model_module_version": "1.2.0",
            "_model_name": "LayoutModel",
            "_view_count": null,
            "_view_module": "@jupyter-widgets/base",
            "_view_module_version": "1.2.0",
            "_view_name": "LayoutView",
            "align_content": null,
            "align_items": null,
            "align_self": null,
            "border": null,
            "bottom": null,
            "display": null,
            "flex": null,
            "flex_flow": null,
            "grid_area": null,
            "grid_auto_columns": null,
            "grid_auto_flow": null,
            "grid_auto_rows": null,
            "grid_column": null,
            "grid_gap": null,
            "grid_row": null,
            "grid_template_areas": null,
            "grid_template_columns": null,
            "grid_template_rows": null,
            "height": null,
            "justify_content": null,
            "justify_items": null,
            "left": null,
            "margin": null,
            "max_height": null,
            "max_width": null,
            "min_height": null,
            "min_width": null,
            "object_fit": null,
            "object_position": null,
            "order": null,
            "overflow": null,
            "overflow_x": null,
            "overflow_y": null,
            "padding": null,
            "right": null,
            "top": null,
            "visibility": null,
            "width": null
          }
        },
        "04525b596e344f759f931bfb26e34b5e": {
          "model_module": "@jupyter-widgets/base",
          "model_name": "LayoutModel",
          "state": {
            "_model_module": "@jupyter-widgets/base",
            "_model_module_version": "1.2.0",
            "_model_name": "LayoutModel",
            "_view_count": null,
            "_view_module": "@jupyter-widgets/base",
            "_view_module_version": "1.2.0",
            "_view_name": "LayoutView",
            "align_content": null,
            "align_items": null,
            "align_self": null,
            "border": null,
            "bottom": null,
            "display": null,
            "flex": null,
            "flex_flow": null,
            "grid_area": null,
            "grid_auto_columns": null,
            "grid_auto_flow": null,
            "grid_auto_rows": null,
            "grid_column": null,
            "grid_gap": null,
            "grid_row": null,
            "grid_template_areas": null,
            "grid_template_columns": null,
            "grid_template_rows": null,
            "height": null,
            "justify_content": null,
            "justify_items": null,
            "left": null,
            "margin": null,
            "max_height": null,
            "max_width": null,
            "min_height": null,
            "min_width": null,
            "object_fit": null,
            "object_position": null,
            "order": null,
            "overflow": null,
            "overflow_x": null,
            "overflow_y": null,
            "padding": null,
            "right": null,
            "top": null,
            "visibility": null,
            "width": null
          }
        },
        "1d62ff6c3bcd4271ab2ceb5b3e2abf9d": {
          "model_module": "@jupyter-widgets/controls",
          "model_name": "ProgressStyleModel",
          "state": {
            "_model_module": "@jupyter-widgets/controls",
            "_model_module_version": "1.5.0",
            "_model_name": "ProgressStyleModel",
            "_view_count": null,
            "_view_module": "@jupyter-widgets/base",
            "_view_module_version": "1.2.0",
            "_view_name": "StyleView",
            "bar_color": null,
            "description_width": "initial"
          }
        },
        "b65955c4676449a58686dbbafbe50d09": {
          "model_module": "@jupyter-widgets/base",
          "model_name": "LayoutModel",
          "state": {
            "_model_module": "@jupyter-widgets/base",
            "_model_module_version": "1.2.0",
            "_model_name": "LayoutModel",
            "_view_count": null,
            "_view_module": "@jupyter-widgets/base",
            "_view_module_version": "1.2.0",
            "_view_name": "LayoutView",
            "align_content": null,
            "align_items": null,
            "align_self": null,
            "border": null,
            "bottom": null,
            "display": null,
            "flex": null,
            "flex_flow": null,
            "grid_area": null,
            "grid_auto_columns": null,
            "grid_auto_flow": null,
            "grid_auto_rows": null,
            "grid_column": null,
            "grid_gap": null,
            "grid_row": null,
            "grid_template_areas": null,
            "grid_template_columns": null,
            "grid_template_rows": null,
            "height": null,
            "justify_content": null,
            "justify_items": null,
            "left": null,
            "margin": null,
            "max_height": null,
            "max_width": null,
            "min_height": null,
            "min_width": null,
            "object_fit": null,
            "object_position": null,
            "order": null,
            "overflow": null,
            "overflow_x": null,
            "overflow_y": null,
            "padding": null,
            "right": null,
            "top": null,
            "visibility": null,
            "width": null
          }
        },
        "2ddd8c9fabd742b3b60c3e5d77879e0c": {
          "model_module": "@jupyter-widgets/controls",
          "model_name": "DescriptionStyleModel",
          "state": {
            "_model_module": "@jupyter-widgets/controls",
            "_model_module_version": "1.5.0",
            "_model_name": "DescriptionStyleModel",
            "_view_count": null,
            "_view_module": "@jupyter-widgets/base",
            "_view_module_version": "1.2.0",
            "_view_name": "StyleView",
            "description_width": ""
          }
        },
        "7072087df6254e80892ace3344fa22ca": {
          "model_module": "@jupyter-widgets/controls",
          "model_name": "HBoxModel",
          "state": {
            "_dom_classes": [],
            "_model_module": "@jupyter-widgets/controls",
            "_model_module_version": "1.5.0",
            "_model_name": "HBoxModel",
            "_view_count": null,
            "_view_module": "@jupyter-widgets/controls",
            "_view_module_version": "1.5.0",
            "_view_name": "HBoxView",
            "box_style": "",
            "children": [
              "IPY_MODEL_ca936ce432fb4d61b73028f3e487130c",
              "IPY_MODEL_34988976e5ba470e931e9e5aac115779"
            ],
            "layout": "IPY_MODEL_a192cfe33c734dc98bd91dac3fab4bb4"
          }
        },
        "ca936ce432fb4d61b73028f3e487130c": {
          "model_module": "@jupyter-widgets/controls",
          "model_name": "IntProgressModel",
          "state": {
            "_dom_classes": [],
            "_model_module": "@jupyter-widgets/controls",
            "_model_module_version": "1.5.0",
            "_model_name": "IntProgressModel",
            "_view_count": null,
            "_view_module": "@jupyter-widgets/controls",
            "_view_module_version": "1.5.0",
            "_view_name": "ProgressView",
            "bar_style": "success",
            "description": "100%",
            "description_tooltip": null,
            "layout": "IPY_MODEL_144363a56c96400b8038b182cd80e801",
            "max": 42,
            "min": 0,
            "orientation": "horizontal",
            "style": "IPY_MODEL_d1f5497425c04bf5987a4ad99d2738e3",
            "value": 42
          }
        },
        "34988976e5ba470e931e9e5aac115779": {
          "model_module": "@jupyter-widgets/controls",
          "model_name": "HTMLModel",
          "state": {
            "_dom_classes": [],
            "_model_module": "@jupyter-widgets/controls",
            "_model_module_version": "1.5.0",
            "_model_name": "HTMLModel",
            "_view_count": null,
            "_view_module": "@jupyter-widgets/controls",
            "_view_module_version": "1.5.0",
            "_view_name": "HTMLView",
            "description": "",
            "description_tooltip": null,
            "layout": "IPY_MODEL_8f7d3266f5184e5da93ebfe93a3b2cf3",
            "placeholder": "​",
            "style": "IPY_MODEL_9355e714049d4ff1856a7867c3ab7e3b",
            "value": " 42/42 [00:40&lt;00:00,  1.04it/s]"
          }
        },
        "a192cfe33c734dc98bd91dac3fab4bb4": {
          "model_module": "@jupyter-widgets/base",
          "model_name": "LayoutModel",
          "state": {
            "_model_module": "@jupyter-widgets/base",
            "_model_module_version": "1.2.0",
            "_model_name": "LayoutModel",
            "_view_count": null,
            "_view_module": "@jupyter-widgets/base",
            "_view_module_version": "1.2.0",
            "_view_name": "LayoutView",
            "align_content": null,
            "align_items": null,
            "align_self": null,
            "border": null,
            "bottom": null,
            "display": null,
            "flex": null,
            "flex_flow": null,
            "grid_area": null,
            "grid_auto_columns": null,
            "grid_auto_flow": null,
            "grid_auto_rows": null,
            "grid_column": null,
            "grid_gap": null,
            "grid_row": null,
            "grid_template_areas": null,
            "grid_template_columns": null,
            "grid_template_rows": null,
            "height": null,
            "justify_content": null,
            "justify_items": null,
            "left": null,
            "margin": null,
            "max_height": null,
            "max_width": null,
            "min_height": null,
            "min_width": null,
            "object_fit": null,
            "object_position": null,
            "order": null,
            "overflow": null,
            "overflow_x": null,
            "overflow_y": null,
            "padding": null,
            "right": null,
            "top": null,
            "visibility": null,
            "width": null
          }
        },
        "144363a56c96400b8038b182cd80e801": {
          "model_module": "@jupyter-widgets/base",
          "model_name": "LayoutModel",
          "state": {
            "_model_module": "@jupyter-widgets/base",
            "_model_module_version": "1.2.0",
            "_model_name": "LayoutModel",
            "_view_count": null,
            "_view_module": "@jupyter-widgets/base",
            "_view_module_version": "1.2.0",
            "_view_name": "LayoutView",
            "align_content": null,
            "align_items": null,
            "align_self": null,
            "border": null,
            "bottom": null,
            "display": null,
            "flex": null,
            "flex_flow": null,
            "grid_area": null,
            "grid_auto_columns": null,
            "grid_auto_flow": null,
            "grid_auto_rows": null,
            "grid_column": null,
            "grid_gap": null,
            "grid_row": null,
            "grid_template_areas": null,
            "grid_template_columns": null,
            "grid_template_rows": null,
            "height": null,
            "justify_content": null,
            "justify_items": null,
            "left": null,
            "margin": null,
            "max_height": null,
            "max_width": null,
            "min_height": null,
            "min_width": null,
            "object_fit": null,
            "object_position": null,
            "order": null,
            "overflow": null,
            "overflow_x": null,
            "overflow_y": null,
            "padding": null,
            "right": null,
            "top": null,
            "visibility": null,
            "width": null
          }
        },
        "d1f5497425c04bf5987a4ad99d2738e3": {
          "model_module": "@jupyter-widgets/controls",
          "model_name": "ProgressStyleModel",
          "state": {
            "_model_module": "@jupyter-widgets/controls",
            "_model_module_version": "1.5.0",
            "_model_name": "ProgressStyleModel",
            "_view_count": null,
            "_view_module": "@jupyter-widgets/base",
            "_view_module_version": "1.2.0",
            "_view_name": "StyleView",
            "bar_color": null,
            "description_width": "initial"
          }
        },
        "8f7d3266f5184e5da93ebfe93a3b2cf3": {
          "model_module": "@jupyter-widgets/base",
          "model_name": "LayoutModel",
          "state": {
            "_model_module": "@jupyter-widgets/base",
            "_model_module_version": "1.2.0",
            "_model_name": "LayoutModel",
            "_view_count": null,
            "_view_module": "@jupyter-widgets/base",
            "_view_module_version": "1.2.0",
            "_view_name": "LayoutView",
            "align_content": null,
            "align_items": null,
            "align_self": null,
            "border": null,
            "bottom": null,
            "display": null,
            "flex": null,
            "flex_flow": null,
            "grid_area": null,
            "grid_auto_columns": null,
            "grid_auto_flow": null,
            "grid_auto_rows": null,
            "grid_column": null,
            "grid_gap": null,
            "grid_row": null,
            "grid_template_areas": null,
            "grid_template_columns": null,
            "grid_template_rows": null,
            "height": null,
            "justify_content": null,
            "justify_items": null,
            "left": null,
            "margin": null,
            "max_height": null,
            "max_width": null,
            "min_height": null,
            "min_width": null,
            "object_fit": null,
            "object_position": null,
            "order": null,
            "overflow": null,
            "overflow_x": null,
            "overflow_y": null,
            "padding": null,
            "right": null,
            "top": null,
            "visibility": null,
            "width": null
          }
        },
        "9355e714049d4ff1856a7867c3ab7e3b": {
          "model_module": "@jupyter-widgets/controls",
          "model_name": "DescriptionStyleModel",
          "state": {
            "_model_module": "@jupyter-widgets/controls",
            "_model_module_version": "1.5.0",
            "_model_name": "DescriptionStyleModel",
            "_view_count": null,
            "_view_module": "@jupyter-widgets/base",
            "_view_module_version": "1.2.0",
            "_view_name": "StyleView",
            "description_width": ""
          }
        }
      }
    }
  },
  "cells": [
    {
      "cell_type": "markdown",
      "metadata": {
        "id": "view-in-github",
        "colab_type": "text"
      },
      "source": [
        "<a href=\"https://colab.research.google.com/github/zhlu97/pn_pc_cls/blob/master/EasyPointNet_Plot_DuringTraining_Model.ipynb\" target=\"_parent\"><img src=\"https://colab.research.google.com/assets/colab-badge.svg\" alt=\"Open In Colab\"/></a>"
      ]
    },
    {
      "cell_type": "markdown",
      "metadata": {
        "id": "0SGGRqEsBTX_",
        "colab_type": "text"
      },
      "source": [
        "# Easiest PointNet Possible"
      ]
    },
    {
      "cell_type": "markdown",
      "metadata": {
        "id": "aIItjvl-0v6X",
        "colab_type": "text"
      },
      "source": [
        "## Fetch ModelNet40 and Decompress"
      ]
    },
    {
      "cell_type": "code",
      "metadata": {
        "id": "EeMr-nS001Ae",
        "colab_type": "code",
        "colab": {
          "base_uri": "https://localhost:8080/",
          "height": 202
        },
        "outputId": "1a6971f9-a1b8-4596-c8c8-62635cf29861"
      },
      "source": [
        "!wget https://shapenet.cs.stanford.edu/media/modelnet40_normal_resampled.zip"
      ],
      "execution_count": null,
      "outputs": [
        {
          "output_type": "stream",
          "text": [
            "--2020-04-22 18:58:10--  https://shapenet.cs.stanford.edu/media/modelnet40_normal_resampled.zip\n",
            "Resolving shapenet.cs.stanford.edu (shapenet.cs.stanford.edu)... 171.67.77.19\n",
            "Connecting to shapenet.cs.stanford.edu (shapenet.cs.stanford.edu)|171.67.77.19|:443... connected.\n",
            "HTTP request sent, awaiting response... 200 OK\n",
            "Length: 1705117335 (1.6G) [application/zip]\n",
            "Saving to: ‘modelnet40_normal_resampled.zip.2’\n",
            "\n",
            "modelnet40_normal_r 100%[===================>]   1.59G  2.96MB/s    in 9m 12s  \n",
            "\n",
            "2020-04-22 19:07:22 (2.95 MB/s) - ‘modelnet40_normal_resampled.zip.2’ saved [1705117335/1705117335]\n",
            "\n"
          ],
          "name": "stdout"
        }
      ]
    },
    {
      "cell_type": "code",
      "metadata": {
        "id": "qrCTYNuq02px",
        "colab_type": "code",
        "colab": {}
      },
      "source": [
        "%%capture\n",
        "!unzip modelnet40_normal_resampled.zip"
      ],
      "execution_count": null,
      "outputs": []
    },
    {
      "cell_type": "markdown",
      "metadata": {
        "id": "NrQmdNrxBdd3",
        "colab_type": "text"
      },
      "source": [
        "## Import Libraries"
      ]
    },
    {
      "cell_type": "code",
      "metadata": {
        "id": "8MsGEo9sBlkU",
        "colab_type": "code",
        "colab": {}
      },
      "source": [
        "import numpy as np\n",
        "import warnings\n",
        "import os\n",
        "from torch.utils.data import Dataset\n",
        "warnings.filterwarnings('ignore')\n",
        "\n",
        "import torch\n",
        "import logging\n",
        "# from tqdm import tqdm\n",
        "from tqdm.notebook import tqdm\n",
        "import sys\n",
        "import importlib\n",
        "\n",
        "import torch.nn.parallel\n",
        "import torch.utils.data\n",
        "from torch.autograd import Variable\n",
        "\n",
        "import torch.nn.functional as F\n",
        "import matplotlib.pyplot as plt\n",
        "from numpy import genfromtxt"
      ],
      "execution_count": null,
      "outputs": []
    },
    {
      "cell_type": "markdown",
      "metadata": {
        "id": "H_9u9KBWEldg",
        "colab_type": "text"
      },
      "source": [
        "## Define hyperparameters"
      ]
    },
    {
      "cell_type": "code",
      "metadata": {
        "id": "VcAA2WSZEkzT",
        "colab_type": "code",
        "colab": {}
      },
      "source": [
        "batch_size = 60\n",
        "sample_point_count = 1024\n",
        "num_classes = 40\n",
        "num_epoch = 200\n",
        "learning_rate = 0.001\n",
        "# rootPath = '/content/modelnet40_normal_resampled/'\n",
        "rootPath = '/home/isuzu/modelnet40_normal_resampled/'"
      ],
      "execution_count": null,
      "outputs": []
    },
    {
      "cell_type": "markdown",
      "metadata": {
        "id": "Fuf7qUU_CSL3",
        "colab_type": "text"
      },
      "source": [
        "## Dataloader"
      ]
    },
    {
      "cell_type": "markdown",
      "metadata": {
        "id": "iaawGnGFnpXD",
        "colab_type": "text"
      },
      "source": [
        "### To use Pytorch's built-in dataloader, must implement subclass and override all three functions below."
      ]
    },
    {
      "cell_type": "code",
      "metadata": {
        "id": "kdHrasQRCvFI",
        "colab_type": "code",
        "colab": {}
      },
      "source": [
        "class ModelNetResampledLoader(Dataset):\n",
        "  def __init__(self, rootPath, mode):\n",
        "        self.categoryNames = [line.rstrip() for line in open(os.path.join(rootPath, 'modelnet40_shape_names.txt'))]\n",
        "        self.classes = dict(zip(self.categoryNames, range(len(self.categoryNames))))\n",
        "\n",
        "        self.all_IDs = {}\n",
        "        self.all_IDs['train'] = [line.rstrip() for line in open(os.path.join(rootPath, 'modelnet40_train.txt'))]\n",
        "        self.all_IDs['test']  = [line.rstrip() for line in open(os.path.join(rootPath, 'modelnet40_test.txt'))]   \n",
        "\n",
        "        shape_names = ['_'.join(x.split('_')[0:-1]) for x in self.all_IDs[mode]]\n",
        "        self.datapath = [(shape_names[i], os.path.join(rootPath, shape_names[i], self.all_IDs[mode][i]) + '.txt') for i\n",
        "                         in range(len(self.all_IDs[mode]))]        \n",
        "\n",
        "  def __len__(self):\n",
        "        'Denotes the total number of samples'\n",
        "        'num of .txt'\n",
        "        return len(self.datapath)\n",
        "\n",
        "  def __getitem__(self, index):\n",
        "        selectedDatapaths = self.datapath[index]\n",
        "        selectedClasses   = self.classes[selectedDatapaths[0]]\n",
        "        selectedClasses   = np.array([selectedClasses]).astype(np.int32)\n",
        "\n",
        "        pointSet = np.loadtxt(selectedDatapaths[1], delimiter=',').astype(np.float32)\n",
        "        pointSet = pointSet[0:sample_point_count,:] #Only choosing first 1024? -- Points have no ordering. We can already see shape with first 1024 pts\n",
        "        pointSet = pointSet[:, 0:3]\n",
        "        plt.plot(pointSet)\n",
        "\n",
        "        return pointSet, selectedClasses"
      ],
      "execution_count": null,
      "outputs": []
    },
    {
      "cell_type": "markdown",
      "metadata": {
        "id": "UC-BxaFgotWJ",
        "colab_type": "text"
      },
      "source": [
        "## Simpliest PointNet Model"
      ]
    },
    {
      "cell_type": "code",
      "metadata": {
        "id": "6Wh7MyRwoycu",
        "colab_type": "code",
        "colab": {}
      },
      "source": [
        "class STNkd(torch.nn.Module):\n",
        "    def __init__(self, k=64):\n",
        "        super(STNkd, self).__init__()\n",
        "\n",
        "        self.expand = torch.nn.Sequential(\n",
        "            torch.nn.Conv1d(k, 64, 1),\n",
        "            torch.nn.BatchNorm1d(64),\n",
        "            torch.nn.ReLU(),\n",
        "            torch.nn.Conv1d(64, 128, 1),\n",
        "            torch.nn.BatchNorm1d(128),\n",
        "            torch.nn.ReLU(),\n",
        "            torch.nn.Conv1d(128, 1024, 1),\n",
        "            torch.nn.BatchNorm1d(1024),\n",
        "            torch.nn.ReLU()\n",
        "        )\n",
        "\n",
        "        self.shrink = torch.nn.Sequential(\n",
        "            torch.nn.Linear(1024, 512),\n",
        "            torch.nn.BatchNorm1d(512),\n",
        "            torch.nn.ReLU(),\n",
        "            torch.nn.Linear(512, 256),\n",
        "            torch.nn.BatchNorm1d(256),\n",
        "            torch.nn.ReLU(),\n",
        "            torch.nn.Linear(256, k * k),\n",
        "        )\n",
        "\n",
        "        self.k = k     \n",
        "\n",
        "    def forward(self, x):\n",
        "        batchsize = x.size()[0]\n",
        "        x = self.expand(x)\n",
        "        x = torch.max(x, 2, keepdim=True)[0]\n",
        "        x = x.view(-1, 1024)\n",
        "        x = self.shrink(x)\n",
        "\n",
        "        init_id = Variable(torch.eye(self.k)).view(1, self.k * self.k).repeat(batchsize, 1).cuda()\n",
        "        x += init_id\n",
        "        x = x.view(-1, self.k, self.k)\n",
        "\n",
        "        return x\n",
        "\n",
        "class PointNetEncoder(torch.nn.Module):\n",
        "    def __init__(self, channel=3):\n",
        "        super(PointNetEncoder, self).__init__()\n",
        "\n",
        "        self.tNet3 = STNkd(channel)\n",
        "        self.featureExpansion_3_64 = torch.nn.Sequential(\n",
        "            torch.nn.Conv1d(channel, 64, 1),\n",
        "            torch.nn.BatchNorm1d(64)\n",
        "        )\n",
        "        self.tNet64 = STNkd(64)\n",
        "        self.featureExpansion_64_128_1024 = torch.nn.Sequential(\n",
        "            torch.nn.Conv1d(64, 64, 1),\n",
        "            torch.nn.BatchNorm1d(64),\n",
        "            torch.nn.Conv1d(64, 128, 1),\n",
        "            torch.nn.BatchNorm1d(128),\n",
        "            torch.nn.Conv1d(128, 1024, 1),\n",
        "            torch.nn.BatchNorm1d(1024)\n",
        "        )\n",
        "\n",
        "    def forward(self, x):\n",
        "        B, D, N = x.size()\n",
        "\n",
        "        inputTransform = self.tNet3(x)\n",
        "        \n",
        "        x = x.transpose(2, 1)\n",
        "        x = torch.bmm(x, inputTransform)\n",
        "        x = x.transpose(2, 1)\n",
        "\n",
        "        x = self.featureExpansion_3_64(x)\n",
        "        featTranform = self.tNet64(x)\n",
        "        x = x.transpose(2, 1)\n",
        "        x = torch.bmm(x, featTranform)\n",
        "        x = x.transpose(2, 1)\n",
        "\n",
        "        pointfeat = x\n",
        "        x = self.featureExpansion_64_128_1024(x)\n",
        "        x = torch.max(x, 2, keepdim=True)[0]\n",
        "        x = x.view(-1, 1024)\n",
        "\n",
        "        return x, inputTransform, featTranform\n",
        "\n",
        "class Model(torch.nn.Module):\n",
        "    def __init__(self, channel = 3):\n",
        "        super(Model, self).__init__()\n",
        "\n",
        "        self.pointNetEncoder = PointNetEncoder(channel=channel)\n",
        "\n",
        "        self.pointNetDecoder = torch.nn.Sequential(\n",
        "            torch.nn.Linear(1024, 512),\n",
        "            torch.nn.BatchNorm1d(512),\n",
        "            torch.nn.ReLU(),\n",
        "            torch.nn.Linear(512, 256),\n",
        "            torch.nn.Dropout(p=0.4),\n",
        "            torch.nn.BatchNorm1d(256),\n",
        "            torch.nn.ReLU(),\n",
        "            torch.nn.Linear(256, num_classes),\n",
        "            torch.nn.Softmax(dim = 1)\n",
        "        )\n",
        "\n",
        "    def forward(self, x):\n",
        "        x, inputTransform, featTranform = self.pointNetEncoder(x)\n",
        "        x = self.pointNetDecoder(x)\n",
        "\n",
        "        return x\n",
        "\n",
        "class Loss(torch.nn.Module):\n",
        "    def __init__(self):\n",
        "        super(Loss, self).__init__()\n",
        "\n",
        "    def forward(self, pred, target):\n",
        "        loss = torch.nn.functional.nll_loss(pred, target)\n",
        "        return loss"
      ],
      "execution_count": null,
      "outputs": []
    },
    {
      "cell_type": "markdown",
      "metadata": {
        "id": "YRKCWcgpzQGO",
        "colab_type": "text"
      },
      "source": [
        "## Training"
      ]
    },
    {
      "cell_type": "code",
      "metadata": {
        "id": "y_JSDlG2zl-m",
        "colab_type": "code",
        "colab": {}
      },
      "source": [
        "# Get data loader\n",
        "trainData = ModelNetResampledLoader(rootPath=rootPath, mode='train')\n",
        "testData  = ModelNetResampledLoader(rootPath=rootPath, mode='test')\n",
        "trainDataLoader = torch.utils.data.DataLoader(trainData, batch_size=batch_size, shuffle=True, num_workers=4)\n",
        "testDataLoader  = torch.utils.data.DataLoader(testData, batch_size=batch_size, shuffle=False, num_workers=4)\n",
        "\n",
        "# Get model\n",
        "model = Model().cuda()\n",
        "criterion = Loss().cuda()\n",
        "optimizer = torch.optim.Adam(model.parameters(), lr=learning_rate)\n",
        "\n",
        "# # Print model's state_dict\n",
        "# print(\"Model's state_dict:\")\n",
        "# for param_tensor in model.state_dict():\n",
        "#     print(param_tensor, \"\\t\", model.state_dict()[param_tensor].size())\n",
        "\n",
        "# # Print optimizer's state_dict\n",
        "# print(\"Optimizer's state_dict:\")\n",
        "# for var_name in optimizer.state_dict():\n",
        "#     print(var_name, \"\\t\", optimizer.state_dict()[var_name])"
      ],
      "execution_count": null,
      "outputs": []
    },
    {
      "cell_type": "code",
      "metadata": {
        "id": "hZAeJ_I6Wn4V",
        "colab_type": "code",
        "colab": {}
      },
      "source": [
        "from mpl_toolkits.mplot3d import Axes3D"
      ],
      "execution_count": null,
      "outputs": []
    },
    {
      "cell_type": "code",
      "metadata": {
        "id": "yPUdrz7nzSjw",
        "colab_type": "code",
        "colab": {
          "base_uri": "https://localhost:8080/",
          "height": 66,
          "referenced_widgets": [
            "30e3fbbd0cfc4216836070a746ae1354",
            "be3b036692cf4c2abd31f0fc0f32e0d0",
            "a1875e59c1064ec7aa45d437888d2066",
            "4cdb98968cd24fecaaaf2b4efe36b303",
            "04525b596e344f759f931bfb26e34b5e",
            "1d62ff6c3bcd4271ab2ceb5b3e2abf9d",
            "b65955c4676449a58686dbbafbe50d09",
            "2ddd8c9fabd742b3b60c3e5d77879e0c"
          ]
        },
        "outputId": "35a6a3ae-0d16-4172-9a62-e171cdbc67b7"
      },
      "source": [
        "print('Start training... Batch size： %d' % batch_size)\n",
        "for epoch in range(0,num_epoch):\n",
        "    correctRates = []\n",
        "    for batch_id, data in tqdm(enumerate(trainDataLoader, 0), total=len(trainDataLoader)):\n",
        "        points, target = data\n",
        "\n",
        "        points = points.data.numpy()\n",
        "        points = torch.Tensor(points)\n",
        "        target = target[:, 0]\n",
        "\n",
        "        points = points.transpose(2, 1)\n",
        "        points, target = points.cuda(), target.cuda()\n",
        "        optimizer.zero_grad()\n",
        "\n",
        "        model = model.train()\n",
        "        pred, _ = model(points)\n",
        "\n",
        "        loss = criterion(pred, target.long())\n",
        "        pred_choice = pred.data.max(1)[1]\n",
        "        correct = pred_choice.eq(target.long().data).cpu().sum()\n",
        "        correctRates.append(correct.item() / float(points.size()[0]))\n",
        "        loss.backward()\n",
        "        optimizer.step()\n",
        "\n",
        "    ###plot###\n",
        "    # pointsP = points.cpu().numpy()\n",
        "    # x, y, z = pointsP[0, 0, :], pointsP[0, 1, :], pointsP[0, 2, :]\n",
        "    # ax = plt.subplot(111, projection='3d')  # 3d plot\n",
        "    # ax.scatter(x[:], y[:], z[:], c='y')\n",
        "    # ax.set_zlabel('Z') \n",
        "    # ax.set_ylabel('Y')\n",
        "    # ax.set_xlabel('X')\n",
        "    \n",
        "    # max_indices = max_indices.cpu().numpy()\n",
        "    # x, y, z = pointsP[0, 0, max_indices[0]], pointsP[0, 1, max_indices[0]], pointsP[0, 2,max_indices[0]]\n",
        "    # # x, y, z = tmp[0, max_indices[0], 0], tmp[0, max_indices[0], 1], tmp[0, max_indices[0], 2]\n",
        "    # # x, y, z = tmp[0, 0, max_indices[0]], tmp[0, 1, max_indices[0]], tmp[0, 2,max_indices[0]]\n",
        "    # # x = x.cpu().numpy\n",
        "    # # y = y.cpu().numpy\n",
        "    # # z = z.cpu().numpy\n",
        "    # # print(max_indices)\n",
        "    # print(x)\n",
        "    # print(y)\n",
        "    # ax.scatter(x[:], y[:], z[:], c='r')\n",
        "    # plt.show()\n",
        "    if epoch % 10 == 0:\n",
        "      testPoints = genfromtxt('/home/isuzu/modelnet40_normal_resampled/chair/chair_0001.txt',delimiter=',')\n",
        "      testPoints = testPoints[0:1024, 0:3]\n",
        "      testPoints = torch.tensor(testPoints).cuda()\n",
        "\n",
        "      testPoints = torch.transpose(testPoints, 0, 1)\n",
        "      testPoints = testPoints.view(-1, 3, 1024)\n",
        "      testPoints = testPoints.float()\n",
        "      model.eval()\n",
        "      predTest, max_indices = model(testPoints)\n",
        "      # print(testPoints)\n",
        "      testPoints = testPoints.cpu().numpy()\n",
        "      # print(testPoints.shape)\n",
        "      x, y, z = testPoints[:, 0, :], testPoints[:, 1, :], testPoints[:, 2, :]\n",
        "      ax = plt.subplot(111, projection='3d')  # 3d plot\n",
        "      ax.scatter(x[:], y[:], z[:], c='y')\n",
        "\n",
        "      max_indices = max_indices.cpu().numpy()\n",
        "      x, y, z = testPoints[0, 0, max_indices[0]], testPoints[0, 1, max_indices[0]], testPoints[0, 2,max_indices[0]]\n",
        "      ax.scatter(x[:], y[:], z[:], c='r')\n",
        "      plt.show()\n",
        "    ##########\n",
        "\n",
        "    trainEpochAccuracy = np.mean(correctRates)\n",
        "    print('Train Epoch %d Accuracy: %f' %(epoch, trainEpochAccuracy))\n",
        "\n",
        "torch.save(model, 'model.pytorch')"
      ],
      "execution_count": null,
      "outputs": [
        {
          "output_type": "stream",
          "text": [
            "Start training... Batch size： 60\n"
          ],
          "name": "stdout"
        },
        {
          "output_type": "display_data",
          "data": {
            "text/plain": [
              "HBox(children=(IntProgress(value=0, max=165), HTML(value='')))"
            ],
            "application/vnd.jupyter.widget-view+json": {
              "version_major": 2,
              "version_minor": 0,
              "model_id": "30e3fbbd0cfc4216836070a746ae1354"
            }
          },
          "metadata": {
            "tags": []
          }
        }
      ]
    },
    {
      "cell_type": "code",
      "metadata": {
        "id": "YQ26vbps7Djh",
        "colab_type": "code",
        "colab": {}
      },
      "source": [
        ""
      ],
      "execution_count": null,
      "outputs": []
    },
    {
      "cell_type": "markdown",
      "metadata": {
        "id": "UhmEJv9yHU_4",
        "colab_type": "text"
      },
      "source": [
        "## Testing"
      ]
    },
    {
      "cell_type": "code",
      "metadata": {
        "id": "96xu7MDSIupR",
        "colab_type": "code",
        "colab": {
          "base_uri": "https://localhost:8080/",
          "height": 83,
          "referenced_widgets": [
            "7072087df6254e80892ace3344fa22ca",
            "ca936ce432fb4d61b73028f3e487130c",
            "34988976e5ba470e931e9e5aac115779",
            "a192cfe33c734dc98bd91dac3fab4bb4",
            "144363a56c96400b8038b182cd80e801",
            "d1f5497425c04bf5987a4ad99d2738e3",
            "8f7d3266f5184e5da93ebfe93a3b2cf3",
            "9355e714049d4ff1856a7867c3ab7e3b"
          ]
        },
        "outputId": "da7e102c-d19e-4cb4-97ec-8f63e1781a70"
      },
      "source": [
        "# Model class must be defined somewhere\n",
        "model = torch.load('model.pytorch')\n",
        "\n",
        "model.eval()\n",
        "mean_correct = []\n",
        "class_acc = np.zeros((num_classes,3))\n",
        "\n",
        "for batch_id, data in tqdm(enumerate(testDataLoader), total=len(testDataLoader)):\n",
        "    points, target = data\n",
        "    target = target[:, 0]\n",
        "    points = points.transpose(2, 1)\n",
        "    points, target = points.cuda(), target.cuda()\n",
        "    classifier = model.eval()\n",
        "    pred, summer = classifier(points)\n",
        "    pred_choice = pred.data.max(1)[1].type(torch.cuda.IntTensor)\n",
        "    equalCount = (pred_choice == target).cpu().sum()\n",
        "    mean_correct.append(equalCount.item() / float(points.size()[0]))\n",
        "instance_acc = np.mean(mean_correct)\n",
        "print('Test Instance Accuracy: %f' % instance_acc)"
      ],
      "execution_count": null,
      "outputs": [
        {
          "output_type": "display_data",
          "data": {
            "text/plain": [
              "HBox(children=(IntProgress(value=0, max=42), HTML(value='')))"
            ],
            "application/vnd.jupyter.widget-view+json": {
              "version_major": 2,
              "version_minor": 0,
              "model_id": "7072087df6254e80892ace3344fa22ca"
            }
          },
          "metadata": {
            "tags": []
          }
        },
        {
          "output_type": "stream",
          "text": [
            "\n",
            "Test Instance Accuracy: 0.690079\n"
          ],
          "name": "stdout"
        }
      ]
    },
    {
      "cell_type": "code",
      "metadata": {
        "id": "JCnEttsXKGsH",
        "colab_type": "code",
        "colab": {}
      },
      "source": [
        "# p = torch.tensor([[[2, 3, 5], [6, 1 ,0],[6, 1 ,10],[100,0,-1]], \n",
        "#                   [[6, 1 ,0], [2, 3, 5],[6, 1 ,10], [100,0,-2]], \n",
        "#                   [[6, 1 ,0], [2, 3, 5],[6, 1 ,10], [100,0,-2]], \n",
        "#                   [[6, 1 ,0], [2, 3, 5],[6, 1 ,10], [100,0,-2]], \n",
        "#                   [[6, 1 ,0], [2, 3, 5],[6, 1 ,10], [100,0,-2]]]).cuda()\n",
        "# x, max_idx = torch.max(p, 1, keepdim=True)\n",
        "# max_idx = max_idx.view(-1, 3)\n",
        "# # print('type(p): ', type(p))\n",
        "# # print('p.shape: ', p.shape)\n",
        "# print(max_idx)\n",
        "# y = p[1,max_idx[1],:]\n",
        "# print(y)"
      ],
      "execution_count": null,
      "outputs": []
    },
    {
      "cell_type": "code",
      "metadata": {
        "id": "JluMjejRWo3m",
        "colab_type": "code",
        "colab": {}
      },
      "source": [
        "# Model class must be defined somewhere\n",
        "model = torch.load('model.pytorch')\n",
        "model.eval()\n",
        "\n",
        "\n",
        "testPoints = genfromtxt('/content/modelnet40_normal_resampled/airplane/airplane_0001.txt',delimiter=',')\n",
        "testPoints = testPoints[0:1024, 0:3]\n",
        "testPoints = torch.tensor(testPoints).cuda()\n",
        "\n",
        "testPoints = torch.transpose(testPoints, 0, 1)\n",
        "testPoints = testPoints.view(-1, 3, 1024)\n",
        "testPoints = testPoints.float()\n",
        "\n",
        "pred, max_indices = model(testPoints)\n",
        "print(testPoints)\n",
        "testPoints = testPoints.cpu().numpy()\n",
        "print(testPoints.shape)\n",
        "x, y, z = testPoints[:, 0, :], testPoints[:, 1, :], testPoints[:, 2, :]\n",
        "ax = plt.subplot(111, projection='3d')  # 3d plot\n",
        "ax.scatter(x[:], y[:], z[:], c='y')\n",
        "\n",
        "# y = testPoints[0, max_indices[0], :]\n",
        "# ax = plt.subplot(111, projection='3d')\n",
        "# ax.scatter(x[:], y[:], z[:], c='r')\n",
        "max_indices = max_indices.cpu().numpy()\n",
        "print(max_indices.)\n",
        "x, y, z = testPoints[0, 0, max_indices[0]], testPoints[0, 1, max_indices[0]], testPoints[0, 2,max_indices[0]]\n",
        "# ax = plt.subplot(111, projection='3d')\n",
        "ax.scatter(x[:], y[:], z[:], c='r')\n",
        "# plt.show()\n",
        "\n",
        "# points, target = data\n",
        "# target = target[:, 0]\n",
        "# points = points.transpose(2, 1)\n",
        "# points, target = points.cuda(), target.cuda()\n",
        "# classifier = model.eval()\n",
        "# pred = classifier(points)\n",
        "# pred_choice = pred.data.max(1)[1].type(torch.cuda.IntTensor)\n",
        "# equalCount = (pred_choice == target).cpu().sum()\n",
        "# mean_correct.append(equalCount.item() / float(points.size()[0]))"
      ],
      "execution_count": null,
      "outputs": []
    },
    {
      "cell_type": "code",
      "metadata": {
        "id": "HQ4y28O0W6x7",
        "colab_type": "code",
        "colab": {}
      },
      "source": [
        ""
      ],
      "execution_count": null,
      "outputs": []
    }
  ]
}